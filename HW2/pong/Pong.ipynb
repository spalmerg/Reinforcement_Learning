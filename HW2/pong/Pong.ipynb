{
 "cells": [
  {
   "cell_type": "markdown",
   "metadata": {},
   "source": [
    "### Import Libraries"
   ]
  },
  {
   "cell_type": "code",
   "execution_count": 1,
   "metadata": {},
   "outputs": [],
   "source": [
    "import gym\n",
    "import gym.spaces\n",
    "import numpy as np\n",
    "import matplotlib.pyplot as plt\n",
    "import tensorflow as tf\n",
    "import os"
   ]
  },
  {
   "cell_type": "markdown",
   "metadata": {},
   "source": [
    "### Set Up GPUs"
   ]
  },
  {
   "cell_type": "code",
   "execution_count": 2,
   "metadata": {},
   "outputs": [],
   "source": [
    "os.environ[\"CUDA_VISIBLE_DEVICES\"]=\"2\""
   ]
  },
  {
   "cell_type": "markdown",
   "metadata": {},
   "source": [
    "### Parameters"
   ]
  },
  {
   "cell_type": "code",
   "execution_count": 3,
   "metadata": {},
   "outputs": [],
   "source": [
    "episodes = 4\n",
    "gamma = 0.99 # specified by homework\n",
    "\n",
    "# network parameters\n",
    "learning_rate = 0.002\n",
    "hidden_size = 20\n",
    "\n",
    "# epochs \n",
    "epochs = 10000 # will be a lot on GPUs"
   ]
  },
  {
   "cell_type": "markdown",
   "metadata": {},
   "source": [
    "### Policy Gradient Network"
   ]
  },
  {
   "cell_type": "code",
   "execution_count": 4,
   "metadata": {},
   "outputs": [],
   "source": [
    "class PolicyGradient():\n",
    "    def __init__(self, learning_rate=0.01, state_size=6400, action_size=2, hidden_size=20, name='PolicyGradient'):\n",
    "        with tf.variable_scope(name):\n",
    "            \n",
    "            # Store Variables\n",
    "            self.inputs_ = tf.placeholder(tf.float32, [None, state_size], name='inputs')\n",
    "            self.actions_ = tf.placeholder(tf.int32, [None, action_size], name='actions')\n",
    "            self.expected_future_rewards_ = tf.placeholder(tf.float32, [None,], name=\"expected_future_rewards\")\n",
    "            \n",
    "            # Hidden Layers\n",
    "            self.fc1 = tf.contrib.layers.fully_connected(self.inputs_, hidden_size, \n",
    "                                                         weights_initializer=tf.contrib.layers.xavier_initializer())\n",
    "            self.fc2 = tf.contrib.layers.fully_connected(self.fc1, action_size, \n",
    "                                                         weights_initializer=tf.contrib.layers.xavier_initializer())\n",
    "            self.fc3 = tf.contrib.layers.fully_connected(self.fc2, action_size, activation_fn=None, \n",
    "                                                         weights_initializer=tf.contrib.layers.xavier_initializer())\n",
    "            \n",
    "            # Output Layer\n",
    "            self.action_distribution = tf.nn.softmax(self.fc3)\n",
    "            \n",
    "            # Training Section\n",
    "            self.log_prob = tf.nn.softmax_cross_entropy_with_logits_v2(logits = self.fc3, labels = self.actions_)\n",
    "            self.loss = tf.reduce_mean(self.log_prob * self.expected_future_rewards_)\n",
    "\n",
    "            # Adjust Network\n",
    "            self.learn = tf.train.AdamOptimizer(learning_rate).minimize(self.loss)"
   ]
  },
  {
   "cell_type": "markdown",
   "metadata": {},
   "source": [
    "### Baseline Network"
   ]
  },
  {
   "cell_type": "code",
   "execution_count": 5,
   "metadata": {},
   "outputs": [],
   "source": [
    "class Baseline():\n",
    "    def __init__(self, learning_rate=0.01, state_size=6400, hidden_size=10, name=\"Baseline\"):\n",
    "        with tf.variable_scope(name):\n",
    "\n",
    "            # Store Variables\n",
    "            self.inputs_ = tf.placeholder(tf.float32, [None, state_size], name='inputs')\n",
    "            self.expected_future_rewards_ = tf.placeholder(tf.float32, [None,], name=\"expected_future_rewards\")\n",
    "\n",
    "            # Hidden Layers\n",
    "            self.fc1 = tf.contrib.layers.fully_connected(self.inputs_, hidden_size, \n",
    "                                                         weights_initializer=tf.contrib.layers.xavier_initializer())\n",
    "            self.fc2 = tf.contrib.layers.fully_connected(self.fc1, hidden_size, \n",
    "                                                         weights_initializer=tf.contrib.layers.xavier_initializer())\n",
    "            self.fc3 = tf.contrib.layers.fully_connected(self.fc2, 1, activation_fn=None, \n",
    "                                                                 weights_initializer=tf.contrib.layers.xavier_initializer())\n",
    "\n",
    "            # Define Loss\n",
    "            self.loss = tf.reduce_mean(tf.square(self.fc3 - self.expected_future_rewards_), name=\"mse\")\n",
    "\n",
    "            # Adjust Network\n",
    "            self.learn = tf.train.AdamOptimizer(learning_rate).minimize(self.loss)"
   ]
  },
  {
   "cell_type": "markdown",
   "metadata": {},
   "source": [
    "### Predict Future Reward Function"
   ]
  },
  {
   "cell_type": "code",
   "execution_count": 6,
   "metadata": {},
   "outputs": [],
   "source": [
    "def expected_rewards(episode_rewards):\n",
    "    discounted_episode_rewards = np.zeros_like(episode_rewards)\n",
    "    cumulative = 0.0\n",
    "    for i in reversed(range(len(episode_rewards))):\n",
    "        cumulative = cumulative * gamma + episode_rewards[i]\n",
    "        discounted_episode_rewards[i] = cumulative\n",
    "    \n",
    "    mean = np.mean(discounted_episode_rewards)\n",
    "    std = np.std(discounted_episode_rewards)\n",
    "    discounted_episode_rewards = (discounted_episode_rewards - mean) / (std)\n",
    "    \n",
    "    return discounted_episode_rewards.tolist()"
   ]
  },
  {
   "cell_type": "markdown",
   "metadata": {},
   "source": [
    "### Process Images"
   ]
  },
  {
   "cell_type": "code",
   "execution_count": 7,
   "metadata": {},
   "outputs": [],
   "source": [
    "def preprocess(image):\n",
    "    \"\"\" prepro 210x160x3 uint8 frame into 6400 (80x80) 2D float array \"\"\"\n",
    "    image = image[35:195] # crop\n",
    "    image = image[::2,::2,0] # downsample by factor of 2\n",
    "    image[image == 144] = 0 # erase background (background type 1)\n",
    "    image[image == 109] = 0 # erase background (background type 2)\n",
    "    image[image != 0] = 1 # everything else (paddles, ball) just set to 1\n",
    "    return image.astype(np.float).ravel()"
   ]
  },
  {
   "cell_type": "markdown",
   "metadata": {},
   "source": [
    "### Setup"
   ]
  },
  {
   "cell_type": "code",
   "execution_count": 8,
   "metadata": {},
   "outputs": [],
   "source": [
    "tf.reset_default_graph()\n",
    "network = PolicyGradient(name = 'pray4us', hidden_size=hidden_size, learning_rate=learning_rate)\n",
    "baseline = Baseline(name = 'ughvariance', hidden_size=hidden_size, learning_rate=learning_rate)"
   ]
  },
  {
   "cell_type": "code",
   "execution_count": 9,
   "metadata": {
    "scrolled": true
   },
   "outputs": [
    {
     "name": "stdout",
     "output_type": "stream",
     "text": [
      "Environment Reset\n"
     ]
    }
   ],
   "source": [
    "# set up environment\n",
    "env = gym.make('Pong-v0')\n",
    "\n",
    "# Initialize the simulation\n",
    "env.reset()\n",
    "\n",
    "print('Environment Reset')"
   ]
  },
  {
   "cell_type": "markdown",
   "metadata": {},
   "source": [
    "### Training"
   ]
  },
  {
   "cell_type": "code",
   "execution_count": null,
   "metadata": {
    "scrolled": true
   },
   "outputs": [],
   "source": [
    "# saver = tf.train.Saver()\n",
    "all_rewards = []\n",
    "\n",
    "with tf.Session() as sess: \n",
    "    sess.run(tf.global_variables_initializer())\n",
    "    \n",
    "    for epoch in range(epochs):\n",
    "        \n",
    "        # save all states, actions, and rewards that happen \n",
    "        episode_states, episode_actions, all_discount_rewards = [], [], []\n",
    "        total_epoch_reward = 0\n",
    "        running_rewards = []\n",
    "        \n",
    "        for ep in range(episodes):\n",
    "            \n",
    "            state = preprocess(env.reset())\n",
    "            episode_rewards = []\n",
    "            \n",
    "            while True: \n",
    "            \n",
    "                # get action prob distribution w.r.t. policy\n",
    "                feed = {network.inputs_: state.reshape((1,*state.shape))}\n",
    "                action_prob_dist = sess.run(network.action_distribution, feed_dict=feed)\n",
    "                \n",
    "                # select action w.r.t. distribution, only RIGHT & LEFT\n",
    "                action = np.random.choice([2,3], p=action_prob_dist.ravel())\n",
    "                new_state, reward, done, _ = env.step(action)\n",
    "                \n",
    "                # keep track of all states, actions, and rewards\n",
    "                episode_states.append(state)\n",
    "                episode_rewards.append(reward)\n",
    "                \n",
    "                # reformat action for softmax\n",
    "                action_ = np.zeros(action_prob_dist.shape[1]) # 6 Pong has 6 action space\n",
    "                action_[action - 2] = 1\n",
    "                episode_actions.append(action_)\n",
    "                \n",
    "                # reset current state to be new state\n",
    "                state = preprocess(new_state)\n",
    "                \n",
    "                if done:\n",
    "                    # Calculate discounted reward per episode\n",
    "                    exp_rewards = expected_rewards(episode_rewards)\n",
    "                    all_discount_rewards += exp_rewards\n",
    "                    \n",
    "                    # reward per episode\n",
    "                    running_rewards.append(sum(episode_rewards))\n",
    "                    break\n",
    "        \n",
    "        # get baseline adjustment\n",
    "        baseline_ = sess.run(baseline.fc3, feed_dict={baseline.inputs_ : np.vstack(episode_states)})\n",
    "        exp_rewards_b = all_discount_rewards - np.hstack(baseline_)\n",
    "        \n",
    "        # train baseline network\n",
    "        _, _= sess.run([baseline.loss, baseline.learn], \n",
    "                    feed_dict={baseline.inputs_: np.vstack(episode_states),\n",
    "                    baseline.expected_future_rewards_: all_discount_rewards })\n",
    "         \n",
    "        # update Policy Gradient Network\n",
    "        # if interested in seeing without baseline correction exp_rewards_b --> all_discount_rewards\n",
    "        _, _= sess.run([network.loss, network.learn], \n",
    "                                     feed_dict={network.inputs_: np.vstack(episode_states),\n",
    "                                     network.actions_: np.vstack(episode_actions),\n",
    "                                     network.expected_future_rewards_: exp_rewards_b })      \n",
    "        \n",
    "        # average reward per episodes in epoch\n",
    "        all_rewards.append(np.mean(running_rewards))\n",
    "        with open('PongTraining.txt', 'a') as f:\n",
    "            f.write(\"Epoch: %s    Average Reward: %s \\n\" %(epoch, np.mean(running_rewards)))\n",
    "\n",
    "#         if (epoch % 100 == 0):\n",
    "#             saver.save(sess, \"checkpoints/cartpole{0}.ckpt\".format(epoch))\n",
    "            "
   ]
  },
  {
   "cell_type": "code",
   "execution_count": null,
   "metadata": {},
   "outputs": [],
   "source": []
  },
  {
   "cell_type": "code",
   "execution_count": null,
   "metadata": {},
   "outputs": [],
   "source": []
  },
  {
   "cell_type": "code",
   "execution_count": null,
   "metadata": {},
   "outputs": [],
   "source": []
  },
  {
   "cell_type": "code",
   "execution_count": null,
   "metadata": {},
   "outputs": [],
   "source": []
  },
  {
   "cell_type": "code",
   "execution_count": null,
   "metadata": {},
   "outputs": [],
   "source": []
  },
  {
   "cell_type": "code",
   "execution_count": null,
   "metadata": {},
   "outputs": [],
   "source": []
  },
  {
   "cell_type": "code",
   "execution_count": null,
   "metadata": {},
   "outputs": [],
   "source": []
  }
 ],
 "metadata": {
  "kernelspec": {
   "display_name": "Python 3",
   "language": "python",
   "name": "python3"
  },
  "language_info": {
   "codemirror_mode": {
    "name": "ipython",
    "version": 3
   },
   "file_extension": ".py",
   "mimetype": "text/x-python",
   "name": "python",
   "nbconvert_exporter": "python",
   "pygments_lexer": "ipython3",
   "version": "3.6.6"
  }
 },
 "nbformat": 4,
 "nbformat_minor": 2
}
