{
 "cells": [
  {
   "cell_type": "markdown",
   "metadata": {},
   "source": [
    "### Import libraries"
   ]
  },
  {
   "cell_type": "code",
   "execution_count": 4,
   "metadata": {
    "collapsed": true
   },
   "outputs": [],
   "source": [
    "import gym\n",
    "import gym.spaces\n",
    "import numpy as np\n",
    "import matplotlib.pyplot as plt"
   ]
  },
  {
   "cell_type": "markdown",
   "metadata": {},
   "source": [
    "### plot just one image from the game"
   ]
  },
  {
   "cell_type": "code",
   "execution_count": 5,
   "metadata": {},
   "outputs": [
    {
     "data": {
      "text/plain": [
       "(210, 160, 3)"
      ]
     },
     "execution_count": 5,
     "metadata": {},
     "output_type": "execute_result"
    },
    {
     "data": {
      "image/png": "[encoded data removed]",
      "text/plain": [
       "<Figure size 432x288 with 2 Axes>"
      ]
     },
     "metadata": {
      "needs_background": "light"
     },
     "output_type": "display_data"
    }
   ],
   "source": [
    "env = gym.make(\"MsPacman-v0\") #choose the game\n",
    "\n",
    "obs = env.reset()\n",
    "plt.figure()\n",
    "plt.imshow(obs)\n",
    "plt.colorbar()\n",
    "plt.grid(False)\n",
    "np.shape(obs)"
   ]
  },
  {
   "cell_type": "markdown",
   "metadata": {},
   "source": [
    "### Simulation for Pacman game"
   ]
  },
  {
   "cell_type": "code",
   "execution_count": 6,
   "metadata": {},
   "outputs": [
    {
     "name": "stdout",
     "output_type": "stream",
     "text": [
      "['NOOP', 'UP', 'RIGHT', 'LEFT', 'DOWN', 'UPRIGHT', 'UPLEFT', 'DOWNRIGHT', 'DOWNLEFT']\n"
     ]
    }
   ],
   "source": [
    "n_actions = env.action_space.n #number of available actions\n",
    "print(env.unwrapped.get_action_meanings()) #description of actions\n",
    "\n",
    "\n",
    "state = env.reset()\n",
    "\n",
    "for i in range(10):\n",
    "    \n",
    "    #initialize lists to keep track of rewards, states and actions\n",
    "    r = []\n",
    "    observations = []\n",
    "    actions = []\n",
    "    \n",
    "    state = env.reset() # initialize the game by resetting. we assign the initial state to variable state. Every time the game finishes you need to reset the game.\n",
    "    \n",
    "    while True:\n",
    "        action = np.random.randint(n_actions) #choose random action\n",
    "        next_state, reward, done, info = env.step(action) #take the actions and see the next state, reward, if the game is finished or not and some info about the game.\n",
    "        \n",
    "        #keep track of rewards, states and actions\n",
    "        r.append(reward)\n",
    "        observations.append(state)\n",
    "        actions.append(action)\n",
    "        \n",
    "        state = next_state #assign next_state to state\n",
    "        \n",
    "        if done:\n",
    "            break"
   ]
  }
 ],
 "metadata": {
  "kernelspec": {
   "display_name": "Python 3",
   "language": "python",
   "name": "python3"
  },
  "language_info": {
   "codemirror_mode": {
    "name": "ipython",
    "version": 3
   },
   "file_extension": ".py",
   "mimetype": "text/x-python",
   "name": "python",
   "nbconvert_exporter": "python",
   "pygments_lexer": "ipython3",
   "version": "3.6.4"
  }
 },
 "nbformat": 4,
 "nbformat_minor": 2
}
