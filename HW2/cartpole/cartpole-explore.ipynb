{
 "cells": [
  {
   "cell_type": "markdown",
   "metadata": {},
   "source": [
    "### Import libraries"
   ]
  },
  {
   "cell_type": "code",
   "execution_count": 1,
   "metadata": {},
   "outputs": [],
   "source": [
    "import gym\n",
    "import gym.spaces\n",
    "import numpy as np\n",
    "import matplotlib.pyplot as plt\n",
    "import tensorflow as tf"
   ]
  },
  {
   "cell_type": "markdown",
   "metadata": {},
   "source": [
    "### Parameters"
   ]
  },
  {
   "cell_type": "code",
   "execution_count": 2,
   "metadata": {},
   "outputs": [],
   "source": [
    "episodes = 40 # will be a lot\n",
    "max_steps = 200\n",
    "gamma = 0.95 # specified by homework\n",
    "\n",
    "# network parameters\n",
    "hidden_size = 128\n",
    "learning_rate = 0.01\n",
    "\n",
    "# epochs \n",
    "epochs = 40"
   ]
  },
  {
   "cell_type": "markdown",
   "metadata": {},
   "source": [
    "### V-Estimation"
   ]
  },
  {
   "cell_type": "code",
   "execution_count": 3,
   "metadata": {},
   "outputs": [],
   "source": [
    "class VNetwork():\n",
    "    def __init__(self, learning_rate=0.01, state_size=4, action_size=2, hidden_size=10, name='VNetwork'):\n",
    "        with tf.variable_scope(name):\n",
    "            self.inputs_ = tf.placeholder(tf.float32, [None, state_size], name='inputs')\n",
    "            self.actions_ = tf.placeholder(tf.int32, [None], name='actions')\n",
    "            \n",
    "            ## this could be changed depending on future code structure (loss function)\n",
    "            one_hot_actions = tf.one_hot(self.actions_, action_size)\n",
    "            \n",
    "            # placeholder for Vs\n",
    "            self.targetVs_ = tf.placeholder(tf.float32, [None], name='target')\n",
    "            \n",
    "            # Hidden Layers\n",
    "            self.fc1 = tf.contrib.layers.fully_connected(self.inputs_, hidden_size, weights_initializer=tf.contrib.layers.xavier_initializer())\n",
    "            self.fc2 = tf.contrib.layers.fully_connected(self.fc1, hidden_size, weights_initializer=tf.contrib.layers.xavier_initializer())\n",
    "            self.fc3 = tf.contrib.layers.fully_connected(self.fc2, hidden_size, weights_initializer=tf.contrib.layers.xavier_initializer())\n",
    "            \n",
    "            # Output Layer\n",
    "            self.output = tf.contrib.layers.fully_connected(self.fc3, action_size, activation_fn=tf.nn.softmax)\n",
    "            \n",
    "            # calculate value function\n",
    "            self.V = tf.reduce_sum(tf.multiply(self.output, one_hot_actions), axis=1)\n",
    "            \n",
    "            # minimize SSE\n",
    "            self.loss = tf.reduce_mean(tf.square(self.targetVs_ - self.V))\n",
    "            \n",
    "            # adjust network\n",
    "            self.learn = tf.train.AdamOptimizer(learning_rate).minimize(self.loss)"
   ]
  },
  {
   "cell_type": "markdown",
   "metadata": {},
   "source": [
    "### Setup"
   ]
  },
  {
   "cell_type": "code",
   "execution_count": 4,
   "metadata": {},
   "outputs": [],
   "source": [
    "tf.reset_default_graph()\n",
    "network = VNetwork(name = 'pray4us', hidden_size=hidden_size, learning_rate=learning_rate)"
   ]
  },
  {
   "cell_type": "code",
   "execution_count": 5,
   "metadata": {},
   "outputs": [],
   "source": [
    "# set up environment\n",
    "env = gym.make('CartPole-v0')\n",
    "\n",
    "# Initialize the simulation\n",
    "env.reset()\n",
    "\n",
    "# Take one random step to get the pole and cart moving\n",
    "state, reward, done, _ = env.step(env.action_space.sample())"
   ]
  },
  {
   "cell_type": "markdown",
   "metadata": {},
   "source": [
    "### Training"
   ]
  },
  {
   "cell_type": "code",
   "execution_count": 6,
   "metadata": {},
   "outputs": [],
   "source": [
    "saver = tf.train.Saver()\n",
    "all_loss = []\n",
    "all_rewards = []\n",
    "\n",
    "\n",
    "with tf.Session() as sess: \n",
    "    sess.run(tf.global_variables_initializer())\n",
    "    for epoch in range(epochs):\n",
    "        epoch_loss = []\n",
    "        epoch_reward = []\n",
    "        \n",
    "        for i_episode in range(episodes): # ideally 1000\n",
    "            state = env.reset()\n",
    "    \n",
    "            # for each sample\n",
    "            reward = []\n",
    "            current_state = []\n",
    "            next_state = []\n",
    "            action = []\n",
    "    \n",
    "            for t in range(max_steps):\n",
    "                \n",
    "                # determine action based on policy\n",
    "                feed = {network.inputs_: state.reshape((1, *state.shape))}\n",
    "                Vs = sess.run(network.output, feed_dict=feed)\n",
    "                policy_action = np.argmax(Vs)\n",
    "                \n",
    "                policy_state, policy_reward, done, info = env.step(policy_action)\n",
    "    \n",
    "                reward.append(policy_reward)\n",
    "                next_state.append(policy_state)\n",
    "                action.append(policy_action)\n",
    "                current_state.append(state)\n",
    "                \n",
    "                state = policy_state\n",
    "                \n",
    "                if done:\n",
    "                    break\n",
    "                    \n",
    "            # learn things, network\n",
    "            feed = {network.inputs_ : next_state}\n",
    "            target = sess.run(network.output, feed_dict = feed)\n",
    "            \n",
    "            # check if next state = game over (all zeros)\n",
    "            final_state = (next_state == np.zeros(current_state[0].shape)).all(axis=1)\n",
    "            \n",
    "            # reward at end of the game\n",
    "            target[final_state] = (0, 0)\n",
    "            \n",
    "            # policy\n",
    "            targets = sum(reward) + gamma * np.max(target, axis=1)\n",
    "            \n",
    "            loss, _ = sess.run([network.loss, network.learn],\n",
    "                                  feed_dict={network.inputs_: current_state,\n",
    "                                            network.targetVs_: targets,\n",
    "                                            network.actions_: action})\n",
    "            epoch_loss.append(loss)\n",
    "            epoch_reward.append(sum(reward))\n",
    "        all_loss.append(np.mean(epoch_loss))\n",
    "        all_rewards.append(np.mean(epoch_reward))\n",
    "            \n",
    "        saver.save(sess, \"checkpoints/cartpole{0}.ckpt\".format(epoch))"
   ]
  },
  {
   "cell_type": "code",
   "execution_count": 7,
   "metadata": {},
   "outputs": [
    {
     "data": {
      "text/plain": [
       "[84.86538,\n",
       " 90.475,\n",
       " 89.42999,\n",
       " 88.384995,\n",
       " 91.21999,\n",
       " 88.8575,\n",
       " 85.97249,\n",
       " 86.81749,\n",
       " 91.792496,\n",
       " 87.53999,\n",
       " 85.0275,\n",
       " 87.017494,\n",
       " 86.917496,\n",
       " 86.69499,\n",
       " 85.749985,\n",
       " 85.649994,\n",
       " 88.585,\n",
       " 85.799995,\n",
       " 84.854996,\n",
       " 83.85999,\n",
       " 84.38249,\n",
       " 88.284996,\n",
       " 85.17749,\n",
       " 83.86,\n",
       " 84.704994,\n",
       " 90.22499,\n",
       " 88.435,\n",
       " 89.52999,\n",
       " 87.017494,\n",
       " 83.237495,\n",
       " 89.80249,\n",
       " 86.545,\n",
       " 87.017494,\n",
       " 89.37999,\n",
       " 88.06249,\n",
       " 88.33499,\n",
       " 86.222496,\n",
       " 88.112495,\n",
       " 85.97249,\n",
       " 83.909996]"
      ]
     },
     "execution_count": 7,
     "metadata": {},
     "output_type": "execute_result"
    }
   ],
   "source": [
    "all_loss"
   ]
  },
  {
   "cell_type": "code",
   "execution_count": 8,
   "metadata": {},
   "outputs": [
    {
     "data": {
      "text/plain": [
       "[9.225,\n",
       " 9.525,\n",
       " 9.475,\n",
       " 9.425,\n",
       " 9.575,\n",
       " 9.45,\n",
       " 9.3,\n",
       " 9.35,\n",
       " 9.6,\n",
       " 9.375,\n",
       " 9.25,\n",
       " 9.35,\n",
       " 9.35,\n",
       " 9.325,\n",
       " 9.275,\n",
       " 9.275,\n",
       " 9.425,\n",
       " 9.275,\n",
       " 9.225,\n",
       " 9.175,\n",
       " 9.2,\n",
       " 9.425,\n",
       " 9.25,\n",
       " 9.175,\n",
       " 9.225,\n",
       " 9.525,\n",
       " 9.425,\n",
       " 9.475,\n",
       " 9.35,\n",
       " 9.15,\n",
       " 9.5,\n",
       " 9.325,\n",
       " 9.35,\n",
       " 9.475,\n",
       " 9.4,\n",
       " 9.425,\n",
       " 9.3,\n",
       " 9.4,\n",
       " 9.3,\n",
       " 9.175]"
      ]
     },
     "execution_count": 8,
     "metadata": {},
     "output_type": "execute_result"
    }
   ],
   "source": [
    "all_rewards"
   ]
  },
  {
   "cell_type": "code",
   "execution_count": null,
   "metadata": {},
   "outputs": [],
   "source": []
  }
 ],
 "metadata": {
  "kernelspec": {
   "display_name": "Python 3",
   "language": "python",
   "name": "python3"
  },
  "language_info": {
   "codemirror_mode": {
    "name": "ipython",
    "version": 3
   },
   "file_extension": ".py",
   "mimetype": "text/x-python",
   "name": "python",
   "nbconvert_exporter": "python",
   "pygments_lexer": "ipython3",
   "version": "3.6.4"
  }
 },
 "nbformat": 4,
 "nbformat_minor": 2
}
