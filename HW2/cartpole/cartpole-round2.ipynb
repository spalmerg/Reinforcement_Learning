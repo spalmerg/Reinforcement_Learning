{
 "cells": [
  {
   "cell_type": "markdown",
   "metadata": {},
   "source": [
    "### Import libraries"
   ]
  },
  {
   "cell_type": "code",
   "execution_count": 1,
   "metadata": {},
   "outputs": [],
   "source": [
    "import gym\n",
    "import gym.spaces\n",
    "import numpy as np\n",
    "import matplotlib.pyplot as plt\n",
    "import tensorflow as tf"
   ]
  },
  {
   "cell_type": "markdown",
   "metadata": {},
   "source": [
    "### Parameters"
   ]
  },
  {
   "cell_type": "code",
   "execution_count": 2,
   "metadata": {},
   "outputs": [],
   "source": [
    "episodes = 15 # will be a lot\n",
    "gamma = 0.95 # specified by homework\n",
    "\n",
    "# network parameters\n",
    "hidden_size = 128\n",
    "learning_rate = 0.01\n",
    "\n",
    "# epochs \n",
    "epochs = 10"
   ]
  },
  {
   "cell_type": "markdown",
   "metadata": {},
   "source": [
    "### V-Estimation"
   ]
  },
  {
   "cell_type": "code",
   "execution_count": 3,
   "metadata": {},
   "outputs": [],
   "source": [
    "class PolicyGradient():\n",
    "    def __init__(self, learning_rate=0.01, state_size=4, action_size=2, hidden_size=10, name='PolicyGradient'):\n",
    "        with tf.variable_scope(name):\n",
    "            self.inputs_ = tf.placeholder(tf.float32, [None, state_size], name='inputs')\n",
    "            self.actions_ = tf.placeholder(tf.int32, [None, action_size], name='actions')\n",
    "            self.expected_future_rewards_ = tf.placeholder(tf.float32, [None,], name=\"expected_future_rewards\")\n",
    "            \n",
    "            # Hidden Layers\n",
    "            self.fc1 = tf.contrib.layers.fully_connected(self.inputs_, hidden_size, \n",
    "                                                         weights_initializer=tf.contrib.layers.xavier_initializer())\n",
    "            self.fc2 = tf.contrib.layers.fully_connected(self.fc1, action_size, \n",
    "                                                         weights_initializer=tf.contrib.layers.xavier_initializer())\n",
    "            self.fc3 = tf.contrib.layers.fully_connected(self.fc2, action_size, \n",
    "                                                         weights_initializer=tf.contrib.layers.xavier_initializer())\n",
    "            \n",
    "            # Output Layer\n",
    "            self.action_distribution = tf.nn.softmax(self.fc3)\n",
    "            \n",
    "            self.log_prob = tf.nn.softmax_cross_entropy_with_logits_v2(logits = self.action_distribution, labels = self.actions_)\n",
    "            self.loss = tf.reduce_mean(self.log_prob * self.expected_future_rewards_) \n",
    "            \n",
    "            # adjust network\n",
    "            self.learn = tf.train.AdamOptimizer(learning_rate).minimize(self.loss)"
   ]
  },
  {
   "cell_type": "markdown",
   "metadata": {},
   "source": [
    "### Setup"
   ]
  },
  {
   "cell_type": "code",
   "execution_count": 4,
   "metadata": {},
   "outputs": [],
   "source": [
    "tf.reset_default_graph()\n",
    "network = PolicyGradient(name = 'pray4us', hidden_size=hidden_size, learning_rate=learning_rate)"
   ]
  },
  {
   "cell_type": "code",
   "execution_count": 5,
   "metadata": {},
   "outputs": [],
   "source": [
    "# set up environment\n",
    "env = gym.make('CartPole-v0')\n",
    "\n",
    "# Initialize the simulation\n",
    "env.reset()\n",
    "\n",
    "# Take one random step to get the pole and cart moving\n",
    "state, reward, done, _ = env.step(env.action_space.sample())"
   ]
  },
  {
   "cell_type": "markdown",
   "metadata": {},
   "source": [
    "### Predict Future Reward Function"
   ]
  },
  {
   "cell_type": "code",
   "execution_count": 6,
   "metadata": {},
   "outputs": [],
   "source": [
    "def expected_rewards(episode_rewards):\n",
    "    discounted_episode_rewards = np.zeros_like(episode_rewards)\n",
    "    future = 0.0\n",
    "    for i in reversed(range(len(episode_rewards))):\n",
    "        future = episode_rewards[i] + (gamma * future)\n",
    "        discounted_episode_rewards[i] = future\n",
    "        \n",
    "    mean = np.mean(discounted_episode_rewards)\n",
    "    std = np.std(discounted_episode_rewards)\n",
    "    discounted_episode_rewards = (discounted_episode_rewards - mean) / (std)\n",
    "    \n",
    "    return discounted_episode_rewards"
   ]
  },
  {
   "cell_type": "markdown",
   "metadata": {},
   "source": [
    "### Training"
   ]
  },
  {
   "cell_type": "code",
   "execution_count": 7,
   "metadata": {},
   "outputs": [],
   "source": [
    "saver = tf.train.Saver()\n",
    "all_loss = []\n",
    "all_rewards = []\n",
    "\n",
    "\n",
    "with tf.Session() as sess: \n",
    "    sess.run(tf.global_variables_initializer())\n",
    "    for epoch in range(epochs):\n",
    "        epoch_loss = []\n",
    "        epoch_reward = []\n",
    "        \n",
    "        for i_episode in range(episodes): # ideally 1000\n",
    "            state = env.reset()\n",
    "    \n",
    "            # for each episode\n",
    "            ep_reward, ep_current_state, ep_next_state, ep_action = [], [], [], []\n",
    "    \n",
    "            while True: # max_steps not needed, stopping included in done\n",
    "            \n",
    "                # get action prob distribution w.r.t. policy\n",
    "                feed = {network.inputs_: state.reshape((1,*state.shape))}\n",
    "                action_prob_dist = sess.run(network.action_distribution, feed_dict=feed)\n",
    "                \n",
    "                # select action w.r.t. distribution\n",
    "                action = np.random.choice(range(action_prob_dist.shape[1]), p=action_prob_dist.ravel())\n",
    "                new_state, reward, done, info = env.step(action)\n",
    "                \n",
    "                # keep track of all rewards, states, and actions\n",
    "                ep_reward.append(reward)\n",
    "                ep_next_state.append(new_state)\n",
    "                ep_current_state.append(state)\n",
    "                \n",
    "                # reformat for softmax\n",
    "                action_ = np.zeros(action_prob_dist.shape[1])\n",
    "                action_[action] = 1\n",
    "                ep_action.append(action_)\n",
    "                \n",
    "                state = new_state\n",
    "                \n",
    "                if done:\n",
    "                    ep_total_reward = np.sum(ep_reward)\n",
    "                    epoch_reward.append(ep_total_reward)\n",
    "                    \n",
    "                    # calc future reward\n",
    "                    exp_future_reward = expected_rewards(ep_reward)\n",
    "                    \n",
    "                    # train\n",
    "                    loss, _ = sess.run([network.loss, network.learn],\n",
    "                                       feed_dict={network.inputs_: np.vstack(np.array(ep_current_state)),\n",
    "                                                  network.actions_: np.vstack(np.array(ep_action)), \n",
    "                                                  network.expected_future_rewards_: exp_future_reward})\n",
    "                    break\n",
    "            epoch_loss.append(loss)\n",
    "            epoch_reward.append(sum(ep_reward))\n",
    "        all_loss.append(np.mean(epoch_loss))\n",
    "        all_rewards.append(np.mean(epoch_reward))\n",
    "            \n",
    "        saver.save(sess, \"checkpoints/cartpole{0}.ckpt\".format(epoch))"
   ]
  },
  {
   "cell_type": "code",
   "execution_count": null,
   "metadata": {},
   "outputs": [],
   "source": []
  },
  {
   "cell_type": "code",
   "execution_count": null,
   "metadata": {},
   "outputs": [],
   "source": []
  },
  {
   "cell_type": "code",
   "execution_count": null,
   "metadata": {},
   "outputs": [],
   "source": []
  }
 ],
 "metadata": {
  "kernelspec": {
   "display_name": "Python 3",
   "language": "python",
   "name": "python3"
  },
  "language_info": {
   "codemirror_mode": {
    "name": "ipython",
    "version": 3
   },
   "file_extension": ".py",
   "mimetype": "text/x-python",
   "name": "python",
   "nbconvert_exporter": "python",
   "pygments_lexer": "ipython3",
   "version": "3.6.4"
  }
 },
 "nbformat": 4,
 "nbformat_minor": 2
}
