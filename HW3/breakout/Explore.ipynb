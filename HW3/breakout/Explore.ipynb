{
 "cells": [
  {
   "cell_type": "markdown",
   "metadata": {},
   "source": [
    "### Import Libraries"
   ]
  },
  {
   "cell_type": "code",
   "execution_count": 1,
   "metadata": {},
   "outputs": [],
   "source": [
    "import gym\n",
    "import gym.spaces\n",
    "import numpy as np\n",
    "import matplotlib.pyplot as plt\n",
    "import tensorflow as tf\n",
    "import os\n",
    "from collections import deque\n",
    "import random"
   ]
  },
  {
   "cell_type": "markdown",
   "metadata": {},
   "source": [
    "### Parameters"
   ]
  },
  {
   "cell_type": "code",
   "execution_count": 2,
   "metadata": {},
   "outputs": [],
   "source": [
    "gamma = 0.95\n",
    "learning_rate = 0.01\n",
    "hidden_size = 200"
   ]
  },
  {
   "cell_type": "markdown",
   "metadata": {},
   "source": [
    "### Image Processing"
   ]
  },
  {
   "cell_type": "code",
   "execution_count": 454,
   "metadata": {},
   "outputs": [],
   "source": [
    "def preprocess(image):\n",
    "    \"\"\" prepro 210x160x3 uint8 frame into 6400 (80x80) 2D float array \"\"\"\n",
    "    image = image[35:195] # crop\n",
    "    image = image[::2,::2,0] # downsample by factor of 2\n",
    "    image[image == 144] = 0 # erase background (background type 1)\n",
    "    image[image == 109] = 0 # erase background (background type 2)\n",
    "    image[image != 0] = 1 # everything else just set to 1\n",
    "    return np.reshape(image.astype(np.float).ravel(), [80,80])"
   ]
  },
  {
   "cell_type": "code",
   "execution_count": 455,
   "metadata": {},
   "outputs": [
    {
     "name": "stdout",
     "output_type": "stream",
     "text": [
      "Environment Reset\n"
     ]
    }
   ],
   "source": [
    "env = gym.make('Breakout-v0')\n",
    "env.reset()\n",
    "print('Environment Reset')"
   ]
  },
  {
   "cell_type": "markdown",
   "metadata": {},
   "source": [
    "### Estimator Network"
   ]
  },
  {
   "cell_type": "code",
   "execution_count": 585,
   "metadata": {},
   "outputs": [],
   "source": [
    "# Q-Value Estimator Network & Target Network\n",
    "class Network():\n",
    "    def __init__(self, learning_rate=0.01, hidden_size=10, action_size = 4, name=\"QEstimator\"):\n",
    "        with tf.variable_scope(name):\n",
    "            # Set scope for copying purposes\n",
    "            self.scope = name\n",
    "\n",
    "            # Store Variables\n",
    "            self.inputs_ = tf.placeholder(tf.float32, [None, 2, 80, 80], name='inputs')\n",
    "            self.target_preds_ = tf.placeholder(tf.float32, [None,], name=\"expected_future_rewards\")\n",
    "            self.chosen_action_pred = tf.placeholder(tf.float32, [None,], name=\"chosen_action_pred\")\n",
    "            self.actions_ = tf.placeholder(tf.int32, shape=[None], name='actions')\n",
    "            \n",
    "            # Three Convolutional Layers\n",
    "            self.conv1 = tf.contrib.layers.conv2d(self.inputs_, 32, 8, 4, activation_fn=tf.nn.relu)\n",
    "            self.conv2 = tf.contrib.layers.conv2d(self.conv1, 64, 4, 2, activation_fn=tf.nn.relu)\n",
    "            self.conv3 = tf.contrib.layers.conv2d(self.conv2, 64, 3, 1, activation_fn=tf.nn.relu)\n",
    "\n",
    "            # Fully Connected Layers\n",
    "            self.flatten = tf.contrib.layers.flatten(self.conv3)\n",
    "            self.fc1 = tf.contrib.layers.fully_connected(self.flatten, hidden_size)\n",
    "            self.predictions = tf.contrib.layers.fully_connected(self.fc1, action_size,\n",
    "                                                                 weights_initializer=tf.contrib.layers.xavier_initializer(), \n",
    "                                                                 activation_fn=None)\n",
    "            \n",
    "            # Get Prediction for the chosen action (epsilon greedy)\n",
    "            self.indices = tf.range(1) * tf.size(self.actions_) + self.actions_\n",
    "            self.chosen_action_pred = tf.gather(tf.reshape(self.predictions, [-1]), self.indices)\n",
    "            \n",
    "            # Calculate Loss\n",
    "            # self.losses = tf.squared_difference(self.target_preds_, self.chosen_action_pred)\n",
    "            self.losses = tf.losses.huber_loss(self.target_preds_, self.chosen_action_pred)\n",
    "            self.loss = tf.reduce_mean(self.losses)\n",
    "            \n",
    "            # Adjust Network\n",
    "            self.learn = tf.train.AdamOptimizer(learning_rate).minimize(self.losses)\n",
    "            \n",
    "    def predict(self, sess, state):\n",
    "        result = sess.run(self.predictions, feed_dict={self.inputs_: state})\n",
    "        return result\n",
    "    \n",
    "    def update(self, sess, state, action, target_preds):\n",
    "        feed_dict = {self.inputs_: state, \n",
    "                    self.actions_: action, \n",
    "                    self.target_preds_: target_preds}\n",
    "        loss = sess.run([self.loss, self.learn], feed_dict=feed_dict)\n",
    "        return loss\n",
    "\n"
   ]
  },
  {
   "cell_type": "markdown",
   "metadata": {},
   "source": [
    "### Greedy Epsilon Policy\n",
    "Epsilon greedy policy chooses a random action a small fraction of the time. This epsilon can change throughout training, but this is more advanced.... so hold off on that for now @Self"
   ]
  },
  {
   "cell_type": "code",
   "execution_count": 586,
   "metadata": {},
   "outputs": [],
   "source": [
    "def epsilon_greedy(sess, network, state, epsilon=0.99):\n",
    "    pick = np.random.rand() # Uniform random number generator\n",
    "    if pick > epsilon: # If off policy -- random action\n",
    "        action = np.random.randint(0,4)\n",
    "    else: # If on policy\n",
    "        action = np.argmax(network.predict(sess, state))\n",
    "    return action"
   ]
  },
  {
   "cell_type": "markdown",
   "metadata": {},
   "source": [
    "### Model Parameter Copier"
   ]
  },
  {
   "cell_type": "code",
   "execution_count": 587,
   "metadata": {},
   "outputs": [],
   "source": [
    "def copy_parameters(sess, q_network, target_network):\n",
    "    \n",
    "    # Get and sort parameters\n",
    "    q_params = [t for t in tf.trainable_variables() if t.name.startswith(q_network.scope)]\n",
    "    q_params = sorted(q_params, key=lambda v: v.name)\n",
    "    t_params = [t for t in tf.trainable_variables() if t.name.startswith(target_network.scope)]\n",
    "    t_params = sorted(t_params, key=lambda v: v.name)\n",
    "    \n",
    "    # Assign Q-Parameters to Target Network\n",
    "    updates = []\n",
    "    for q_v, t_v in zip(q_params, t_params):\n",
    "        update = t_v.assign(q_v)\n",
    "        updates.append(update)\n",
    "    \n",
    "    sess.run(updates)"
   ]
  },
  {
   "cell_type": "code",
   "execution_count": 588,
   "metadata": {},
   "outputs": [
    {
     "name": "stderr",
     "output_type": "stream",
     "text": [
      "/Users/sarahgreenwood/anaconda/lib/python3.6/site-packages/tensorflow/python/ops/gradients_impl.py:108: UserWarning: Converting sparse IndexedSlices to a dense Tensor of unknown shape. This may consume a large amount of memory.\n",
      "  \"Converting sparse IndexedSlices to a dense Tensor of unknown shape. \"\n"
     ]
    }
   ],
   "source": [
    "tf.reset_default_graph()\n",
    "QNetwork = Network(name = 'QNetwork', hidden_size=hidden_size, learning_rate=learning_rate)\n",
    "target = Network(name = 'Target', hidden_size=hidden_size, learning_rate=learning_rate)"
   ]
  },
  {
   "cell_type": "code",
   "execution_count": 589,
   "metadata": {},
   "outputs": [
    {
     "ename": "KeyboardInterrupt",
     "evalue": "",
     "output_type": "error",
     "traceback": [
      "\u001b[0;31m---------------------------------------------------------------------------\u001b[0m",
      "\u001b[0;31mKeyboardInterrupt\u001b[0m                         Traceback (most recent call last)",
      "\u001b[0;32m<ipython-input-589-08e1113b53ec>\u001b[0m in \u001b[0;36m<module>\u001b[0;34m()\u001b[0m\n\u001b[1;32m     76\u001b[0m             \u001b[0mcount\u001b[0m \u001b[0;34m+=\u001b[0m \u001b[0;36m1\u001b[0m\u001b[0;34m\u001b[0m\u001b[0m\n\u001b[1;32m     77\u001b[0m             \u001b[0;32mif\u001b[0m \u001b[0mcount\u001b[0m \u001b[0;34m%\u001b[0m \u001b[0mreset_every\u001b[0m \u001b[0;34m==\u001b[0m \u001b[0;36m0\u001b[0m\u001b[0;34m:\u001b[0m\u001b[0;34m\u001b[0m\u001b[0m\n\u001b[0;32m---> 78\u001b[0;31m                 \u001b[0mcopy_parameters\u001b[0m\u001b[0;34m(\u001b[0m\u001b[0msess\u001b[0m\u001b[0;34m,\u001b[0m \u001b[0mQNetwork\u001b[0m\u001b[0;34m,\u001b[0m \u001b[0mtarget\u001b[0m\u001b[0;34m)\u001b[0m\u001b[0;34m\u001b[0m\u001b[0m\n\u001b[0m\u001b[1;32m     79\u001b[0m \u001b[0;34m\u001b[0m\u001b[0m\n\u001b[1;32m     80\u001b[0m         \u001b[0mall_result\u001b[0m\u001b[0;34m.\u001b[0m\u001b[0mappend\u001b[0m\u001b[0;34m(\u001b[0m\u001b[0mnp\u001b[0m\u001b[0;34m.\u001b[0m\u001b[0mmean\u001b[0m\u001b[0;34m(\u001b[0m\u001b[0mresult\u001b[0m\u001b[0;34m)\u001b[0m\u001b[0;34m)\u001b[0m\u001b[0;34m\u001b[0m\u001b[0m\n",
      "\u001b[0;32m<ipython-input-587-20f2dc9ce8fb>\u001b[0m in \u001b[0;36mcopy_parameters\u001b[0;34m(sess, q_network, target_network)\u001b[0m\n\u001b[1;32m     10\u001b[0m     \u001b[0mupdates\u001b[0m \u001b[0;34m=\u001b[0m \u001b[0;34m[\u001b[0m\u001b[0;34m]\u001b[0m\u001b[0;34m\u001b[0m\u001b[0m\n\u001b[1;32m     11\u001b[0m     \u001b[0;32mfor\u001b[0m \u001b[0mq_v\u001b[0m\u001b[0;34m,\u001b[0m \u001b[0mt_v\u001b[0m \u001b[0;32min\u001b[0m \u001b[0mzip\u001b[0m\u001b[0;34m(\u001b[0m\u001b[0mq_params\u001b[0m\u001b[0;34m,\u001b[0m \u001b[0mt_params\u001b[0m\u001b[0;34m)\u001b[0m\u001b[0;34m:\u001b[0m\u001b[0;34m\u001b[0m\u001b[0m\n\u001b[0;32m---> 12\u001b[0;31m         \u001b[0mupdate\u001b[0m \u001b[0;34m=\u001b[0m \u001b[0mt_v\u001b[0m\u001b[0;34m.\u001b[0m\u001b[0massign\u001b[0m\u001b[0;34m(\u001b[0m\u001b[0mq_v\u001b[0m\u001b[0;34m)\u001b[0m\u001b[0;34m\u001b[0m\u001b[0m\n\u001b[0m\u001b[1;32m     13\u001b[0m         \u001b[0mupdates\u001b[0m\u001b[0;34m.\u001b[0m\u001b[0mappend\u001b[0m\u001b[0;34m(\u001b[0m\u001b[0mupdate\u001b[0m\u001b[0;34m)\u001b[0m\u001b[0;34m\u001b[0m\u001b[0m\n\u001b[1;32m     14\u001b[0m \u001b[0;34m\u001b[0m\u001b[0m\n",
      "\u001b[0;32m~/anaconda/lib/python3.6/site-packages/tensorflow/python/ops/variables.py\u001b[0m in \u001b[0;36massign\u001b[0;34m(self, value, use_locking, name, read_value)\u001b[0m\n\u001b[1;32m   1491\u001b[0m     \"\"\"\n\u001b[1;32m   1492\u001b[0m     assign = state_ops.assign(self._variable, value, use_locking=use_locking,\n\u001b[0;32m-> 1493\u001b[0;31m                               name=name)\n\u001b[0m\u001b[1;32m   1494\u001b[0m     \u001b[0;32mif\u001b[0m \u001b[0mread_value\u001b[0m\u001b[0;34m:\u001b[0m\u001b[0;34m\u001b[0m\u001b[0m\n\u001b[1;32m   1495\u001b[0m       \u001b[0;32mreturn\u001b[0m \u001b[0massign\u001b[0m\u001b[0;34m\u001b[0m\u001b[0m\n",
      "\u001b[0;32m~/anaconda/lib/python3.6/site-packages/tensorflow/python/ops/state_ops.py\u001b[0m in \u001b[0;36massign\u001b[0;34m(ref, value, validate_shape, use_locking, name)\u001b[0m\n\u001b[1;32m    219\u001b[0m     return gen_state_ops.assign(\n\u001b[1;32m    220\u001b[0m         \u001b[0mref\u001b[0m\u001b[0;34m,\u001b[0m \u001b[0mvalue\u001b[0m\u001b[0;34m,\u001b[0m \u001b[0muse_locking\u001b[0m\u001b[0;34m=\u001b[0m\u001b[0muse_locking\u001b[0m\u001b[0;34m,\u001b[0m \u001b[0mname\u001b[0m\u001b[0;34m=\u001b[0m\u001b[0mname\u001b[0m\u001b[0;34m,\u001b[0m\u001b[0;34m\u001b[0m\u001b[0m\n\u001b[0;32m--> 221\u001b[0;31m         validate_shape=validate_shape)\n\u001b[0m\u001b[1;32m    222\u001b[0m   \u001b[0;32mreturn\u001b[0m \u001b[0mref\u001b[0m\u001b[0;34m.\u001b[0m\u001b[0massign\u001b[0m\u001b[0;34m(\u001b[0m\u001b[0mvalue\u001b[0m\u001b[0;34m,\u001b[0m \u001b[0mname\u001b[0m\u001b[0;34m=\u001b[0m\u001b[0mname\u001b[0m\u001b[0;34m)\u001b[0m\u001b[0;34m\u001b[0m\u001b[0m\n\u001b[1;32m    223\u001b[0m \u001b[0;34m\u001b[0m\u001b[0m\n",
      "\u001b[0;32m~/anaconda/lib/python3.6/site-packages/tensorflow/python/ops/gen_state_ops.py\u001b[0m in \u001b[0;36massign\u001b[0;34m(ref, value, validate_shape, use_locking, name)\u001b[0m\n\u001b[1;32m     59\u001b[0m     _, _, _op = _op_def_lib._apply_op_helper(\n\u001b[1;32m     60\u001b[0m         \u001b[0;34m\"Assign\"\u001b[0m\u001b[0;34m,\u001b[0m \u001b[0mref\u001b[0m\u001b[0;34m=\u001b[0m\u001b[0mref\u001b[0m\u001b[0;34m,\u001b[0m \u001b[0mvalue\u001b[0m\u001b[0;34m=\u001b[0m\u001b[0mvalue\u001b[0m\u001b[0;34m,\u001b[0m \u001b[0mvalidate_shape\u001b[0m\u001b[0;34m=\u001b[0m\u001b[0mvalidate_shape\u001b[0m\u001b[0;34m,\u001b[0m\u001b[0;34m\u001b[0m\u001b[0m\n\u001b[0;32m---> 61\u001b[0;31m         use_locking=use_locking, name=name)\n\u001b[0m\u001b[1;32m     62\u001b[0m     \u001b[0m_result\u001b[0m \u001b[0;34m=\u001b[0m \u001b[0m_op\u001b[0m\u001b[0;34m.\u001b[0m\u001b[0moutputs\u001b[0m\u001b[0;34m[\u001b[0m\u001b[0;34m:\u001b[0m\u001b[0;34m]\u001b[0m\u001b[0;34m\u001b[0m\u001b[0m\n\u001b[1;32m     63\u001b[0m     \u001b[0m_inputs_flat\u001b[0m \u001b[0;34m=\u001b[0m \u001b[0m_op\u001b[0m\u001b[0;34m.\u001b[0m\u001b[0minputs\u001b[0m\u001b[0;34m\u001b[0m\u001b[0m\n",
      "\u001b[0;32m~/anaconda/lib/python3.6/site-packages/tensorflow/python/framework/op_def_library.py\u001b[0m in \u001b[0;36m_apply_op_helper\u001b[0;34m(self, op_type_name, name, **keywords)\u001b[0m\n\u001b[1;32m    671\u001b[0m           \u001b[0mattr_protos\u001b[0m\u001b[0;34m[\u001b[0m\u001b[0mkey\u001b[0m\u001b[0;34m]\u001b[0m \u001b[0;34m=\u001b[0m \u001b[0mattr_value\u001b[0m\u001b[0;34m\u001b[0m\u001b[0m\n\u001b[1;32m    672\u001b[0m           \u001b[0;32mcontinue\u001b[0m\u001b[0;34m\u001b[0m\u001b[0m\n\u001b[0;32m--> 673\u001b[0;31m         \u001b[0;32mif\u001b[0m \u001b[0mattr_def\u001b[0m\u001b[0;34m.\u001b[0m\u001b[0mtype\u001b[0m\u001b[0;34m.\u001b[0m\u001b[0mstartswith\u001b[0m\u001b[0;34m(\u001b[0m\u001b[0;34m\"list(\"\u001b[0m\u001b[0;34m)\u001b[0m\u001b[0;34m:\u001b[0m\u001b[0;34m\u001b[0m\u001b[0m\n\u001b[0m\u001b[1;32m    674\u001b[0m           \u001b[0;32mif\u001b[0m \u001b[0;32mnot\u001b[0m \u001b[0m_IsListValue\u001b[0m\u001b[0;34m(\u001b[0m\u001b[0mvalue\u001b[0m\u001b[0;34m)\u001b[0m\u001b[0;34m:\u001b[0m\u001b[0;34m\u001b[0m\u001b[0m\n\u001b[1;32m    675\u001b[0m             \u001b[0;32mraise\u001b[0m \u001b[0mTypeError\u001b[0m\u001b[0;34m(\u001b[0m\u001b[0;34m\"Expected list for attr \"\u001b[0m \u001b[0;34m+\u001b[0m \u001b[0mkey\u001b[0m\u001b[0;34m)\u001b[0m\u001b[0;34m\u001b[0m\u001b[0m\n",
      "\u001b[0;31mKeyboardInterrupt\u001b[0m: "
     ]
    }
   ],
   "source": [
    "# saver = tf.train.Saver()\n",
    "buffer_size = 500\n",
    "batch_size = 50\n",
    "epochs = 40\n",
    "reset_every = 10\n",
    "\n",
    "buffer = deque(maxlen=buffer_size)\n",
    "all_result = []\n",
    "\n",
    "with tf.Session() as sess: \n",
    "    sess.run(tf.global_variables_initializer())\n",
    "    \n",
    "    ### Fill The Buffer\n",
    "    state = preprocess(env.reset())\n",
    "    state = np.expand_dims(np.stack([state] * 2, axis=0), axis=0)\n",
    "    for i in range(buffer_size):\n",
    "        action = epsilon_greedy(sess, QNetwork, state)\n",
    "        new_state, reward, done, _ = env.step(action)\n",
    "        new_state = preprocess(new_state)\n",
    "        \n",
    "        # make new state be old_state, new_state for memory\n",
    "        new_state = np.expand_dims(np.stack([state[0][0], new_state], axis=0), axis=0)\n",
    "        buffer.append([state[0], action, new_state[0], reward])\n",
    "        \n",
    "        # if done, reset state\n",
    "        if done: \n",
    "            state = preprocess(env.reset())\n",
    "            state = np.expand_dims(np.stack([state] * 2, axis=0), axis=0)\n",
    "        # if not done, set old_state to new_state\n",
    "        else:\n",
    "            state = new_state\n",
    "    \n",
    "    for epoch in range(epochs):\n",
    "        \n",
    "        # Set up state\n",
    "        state = preprocess(env.reset())\n",
    "        state = np.expand_dims(np.stack([state] * 2, axis=0), axis=0)\n",
    "        \n",
    "        count = 0\n",
    "        result = []\n",
    "        while True: \n",
    "            # Add M to buffer (following policy)\n",
    "            action = epsilon_greedy(sess, QNetwork, state)\n",
    "            new_state, reward, done, _ = env.step(action)\n",
    "            new_state = preprocess(new_state)\n",
    "            # again, old_state, new_state\n",
    "            new_state = np.expand_dims(np.stack([state[0][0], new_state], axis=0), axis=0)\n",
    "            buffer.append([state[0], action, new_state[0], reward])\n",
    "            \n",
    "            # If simulation done, stop\n",
    "            if done:\n",
    "                break\n",
    "            \n",
    "            # Move state along\n",
    "            state = new_state\n",
    "            \n",
    "            ### Sample & update\n",
    "            sample = random.sample(buffer, batch_size)\n",
    "            state_b, action_b, new_state_b, reward_b = map(np.array, zip(*sample))\n",
    "\n",
    "            # Find max Q-Value per batch for progress\n",
    "            Q_preds = sess.run(QNetwork.chosen_action_pred, \n",
    "                                 feed_dict={QNetwork.inputs_: state_b,\n",
    "                                 QNetwork.actions_: action_b})\n",
    "            result.append(np.max(Q_preds))\n",
    "        \n",
    "            # Target Network Predictions + Discount\n",
    "            TPredictions = target.predict(sess, new_state_b)\n",
    "            max_Qt = gamma * np.max(TPredictions, axis=1)\n",
    "            action_Ts = reward_b + max_Qt\n",
    "\n",
    "            # Update Q-Network\n",
    "            loss, _ = QNetwork.update(sess, state_b, action_b, action_Ts)\n",
    "            \n",
    "            # save target network parameters every epoch\n",
    "            count += 1\n",
    "            if count % reset_every == 0:\n",
    "                copy_parameters(sess, QNetwork, target)\n",
    "        \n",
    "        all_result.append(np.mean(result))"
   ]
  },
  {
   "cell_type": "code",
   "execution_count": 590,
   "metadata": {},
   "outputs": [
    {
     "data": {
      "text/plain": [
       "[<matplotlib.lines.Line2D at 0x13350e320>]"
      ]
     },
     "execution_count": 590,
     "metadata": {},
     "output_type": "execute_result"
    },
    {
     "data": {
      "image/png": "[encoded data removed]",
      "text/plain": [
       "<matplotlib.figure.Figure at 0x13a1e9a90>"
      ]
     },
     "metadata": {},
     "output_type": "display_data"
    }
   ],
   "source": [
    "plt.plot(all_result)"
   ]
  },
  {
   "cell_type": "code",
   "execution_count": null,
   "metadata": {},
   "outputs": [],
   "source": []
  },
  {
   "cell_type": "code",
   "execution_count": null,
   "metadata": {},
   "outputs": [],
   "source": []
  }
 ],
 "metadata": {
  "kernelspec": {
   "display_name": "Python 3",
   "language": "python",
   "name": "python3"
  },
  "language_info": {
   "codemirror_mode": {
    "name": "ipython",
    "version": 3
   },
   "file_extension": ".py",
   "mimetype": "text/x-python",
   "name": "python",
   "nbconvert_exporter": "python",
   "pygments_lexer": "ipython3",
   "version": "3.6.4"
  }
 },
 "nbformat": 4,
 "nbformat_minor": 2
}
