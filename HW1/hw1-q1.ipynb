{
 "cells": [
  {
   "cell_type": "markdown",
   "metadata": {},
   "source": [
    "## Question 1"
   ]
  },
  {
   "cell_type": "code",
   "execution_count": 1166,
   "metadata": {},
   "outputs": [],
   "source": [
    "import pandas as pd\n",
    "import numpy as np\n",
    "import matplotlib.pyplot as plt\n",
    "import random\n",
    "import time"
   ]
  },
  {
   "cell_type": "markdown",
   "metadata": {},
   "source": [
    "Consider shuttle dispatching problem in which a dispatcher is responsible to decide whether or not\n",
    "to dispatch a shuttle at each decision epoch depending on number of customers waiting for the service. A\n",
    "standard shuttle dispatch problem has following parameters:\n",
    "\n",
    "- K = The capacity of a shuttle if it is dispatched.\n",
    "- At = A random variable giving the number of customers arriving during time interval t.\n",
    "- cf = The cost of dispatching a shuttle.\n",
    "- ch = The cost per customer left waiting per time period.\n",
    "\n",
    "Given K = 15, cf = 100, ch = 2 and assuming that At follows unif{1,5}..."
   ]
  },
  {
   "cell_type": "code",
   "execution_count": 578,
   "metadata": {},
   "outputs": [],
   "source": [
    "max_time = 500\n",
    "K = 201 # platform capacity\n",
    "cf = -100 # cost of dispatching a shuttle\n",
    "ch = -2 # cost per customer left waiting per time period\n",
    "cap = 15 # shuttle capacity\n",
    "gamma = 0.95"
   ]
  },
  {
   "cell_type": "markdown",
   "metadata": {},
   "source": [
    "### Enumeration"
   ]
  },
  {
   "cell_type": "code",
   "execution_count": 194,
   "metadata": {
    "scrolled": true
   },
   "outputs": [],
   "source": [
    "Vt = np.repeat(0.0,K)\n",
    "Vt_future = np.repeat(0.0,K)\n",
    "for time in range(max_time, -1, -1): # timeframe\n",
    "    for st in range(K): # every state\n",
    "        Vt_shut = cf + (ch * max(st-cap, 0))\n",
    "        Vt_no_shut = ch * st\n",
    "        for new in range(1, 6): # number of new customers\n",
    "            Vt_shut = Vt_shut + (.2 * gamma * Vt_future[max(st+new-cap, 0)]) # make sure doesn't go below zero\n",
    "            Vt_no_shut = Vt_no_shut + (.2 * gamma * Vt_future[min(st+new, K-1)]) # can't go over 200\n",
    "        Vt[st] = max(Vt_shut, Vt_no_shut)\n",
    "    Vt_future = Vt"
   ]
  },
  {
   "cell_type": "code",
   "execution_count": 195,
   "metadata": {},
   "outputs": [
    {
     "data": {
      "text/plain": [
       "Text(0,0.5,'Value')"
      ]
     },
     "execution_count": 195,
     "metadata": {},
     "output_type": "execute_result"
    },
    {
     "data": {
      "image/png": "[encoded data removed]",
      "text/plain": [
       "<matplotlib.figure.Figure at 0x115353630>"
      ]
     },
     "metadata": {},
     "output_type": "display_data"
    }
   ],
   "source": [
    "plt.plot(range(0,201), Vt)\n",
    "plt.title(\"Enumeration\")\n",
    "plt.xlabel(\"State\")\n",
    "plt.ylabel(\"Value\")"
   ]
  },
  {
   "cell_type": "markdown",
   "metadata": {},
   "source": [
    "### Value Iteration"
   ]
  },
  {
   "cell_type": "code",
   "execution_count": 206,
   "metadata": {},
   "outputs": [],
   "source": [
    "# initialization\n",
    "theta = 10e-6\n",
    "Vt = np.repeat(0.0,K)\n",
    "Vt_next = np.repeat(0.0,K)\n",
    "\n",
    "# policy evaluation\n",
    "while True: \n",
    "    Vt_next = Vt.copy()\n",
    "    delta = 0\n",
    "    for st in range(K): # every state\n",
    "        Vt_shut = cf + (ch * max(st-cap, 0))\n",
    "        Vt_no_shut = ch * st\n",
    "        for new in range(1, 6): # number of new customers\n",
    "            Vt_shut = Vt_shut + (.2 * gamma * Vt_next[max(st+new-cap, 0)])\n",
    "            Vt_no_shut = Vt_no_shut + (.2 * gamma * Vt_next[min(st+new, K-1)])\n",
    "        Vt[st] = max(Vt_shut, Vt_no_shut)\n",
    "    delta = max(delta, max(abs(Vt_next-Vt)))\n",
    "    if(delta < theta):\n",
    "        break"
   ]
  },
  {
   "cell_type": "code",
   "execution_count": 207,
   "metadata": {},
   "outputs": [
    {
     "data": {
      "text/plain": [
       "Text(0,0.5,'Value')"
      ]
     },
     "execution_count": 207,
     "metadata": {},
     "output_type": "execute_result"
    },
    {
     "data": {
      "image/png": "[encoded data removed]",
      "text/plain": [
       "<matplotlib.figure.Figure at 0x114f7fd30>"
      ]
     },
     "metadata": {},
     "output_type": "display_data"
    }
   ],
   "source": [
    "plt.plot(range(0,201), Vt)\n",
    "plt.title(\"Value Iteration\")\n",
    "plt.xlabel(\"State\")\n",
    "plt.ylabel(\"Value\")"
   ]
  },
  {
   "cell_type": "markdown",
   "metadata": {},
   "source": [
    "### Policy Iteration "
   ]
  },
  {
   "cell_type": "code",
   "execution_count": 686,
   "metadata": {},
   "outputs": [],
   "source": [
    "# initialization\n",
    "Vt = np.repeat(0.0,K)\n",
    "Vt_next = np.repeat(0.0,K)\n",
    "policy = np.random.randint(2,size=K) # 0 = no shuttle, 1 = shuttle\n",
    "policy_new = np.random.randint(2,size=K)\n",
    "theta = 10e-6\n",
    "delta = 2\n",
    "\n",
    "changed = True\n",
    "while changed: \n",
    "    # policy evaluation\n",
    "    while theta < delta:\n",
    "        delta = 0\n",
    "        Vt_next = Vt.copy()\n",
    "        for st in range(K):\n",
    "            v = Vt[st] # old value\n",
    "            Vt_shut = cf + (ch * max(st-cap, 0))\n",
    "            Vt_no_shut = ch * st\n",
    "            for new in range(1, 6): # number of new customers\n",
    "                Vt_shut = Vt_shut + (.2 * gamma * Vt_next[max(st+new-cap, 0)])\n",
    "                Vt_no_shut = Vt_no_shut + (.2 * gamma * Vt_next[min(st+new, K-1)])\n",
    "            values = [Vt_no_shut, Vt_shut]\n",
    "            Vt[st] = values[policy[st]]\n",
    "            delta = max(delta, abs(v-Vt[st]))\n",
    "            \n",
    "    # policy improvement\n",
    "    for st in range(K):\n",
    "        Vt_shut = cf + (ch * max(st-cap, 0))\n",
    "        Vt_no_shut = ch * st\n",
    "        for new in range(1, 6): # number of new customers\n",
    "            Vt_shut = Vt_shut + (.2 * gamma * Vt_next[max(st+new-cap, 0)])\n",
    "            Vt_no_shut = Vt_no_shut + (.2 * gamma * Vt_next[min(st+new, K-1)])\n",
    "        values = [Vt_no_shut, Vt_shut]\n",
    "        policy_new[st] = np.argmax(values)\n",
    "     \n",
    "    # check if policy is stable\n",
    "    if not all(policy_new == policy):\n",
    "        delta = 2\n",
    "        policy = policy_new.copy()\n",
    "    else:\n",
    "        changed = False"
   ]
  },
  {
   "cell_type": "code",
   "execution_count": 688,
   "metadata": {},
   "outputs": [
    {
     "data": {
      "text/plain": [
       "Text(0,0.5,'Value')"
      ]
     },
     "execution_count": 688,
     "metadata": {},
     "output_type": "execute_result"
    },
    {
     "data": {
      "image/png": "[encoded data removed]",
      "text/plain": [
       "<matplotlib.figure.Figure at 0x116c89588>"
      ]
     },
     "metadata": {},
     "output_type": "display_data"
    }
   ],
   "source": [
    "plt.plot(range(0,201), policy)\n",
    "plt.title(\"Value Iteration\")\n",
    "plt.xlabel(\"State\")\n",
    "plt.ylabel(\"Value\")"
   ]
  },
  {
   "cell_type": "markdown",
   "metadata": {},
   "source": [
    "## Question 2"
   ]
  },
  {
   "cell_type": "markdown",
   "metadata": {},
   "source": [
    "Now consider the multiclass problem in which we have different types of customers. Assume that there\n",
    "are 5 types of customers with ch = {1, 1.5, 2, 2.5, 3} and each type can have maximum 100 people of each\n",
    "class waiting for shuttle and At for each class follows same distribution. Capacity of the shuttle is K = 30.\n",
    "Try to repeat a), b) and c) from problem 1."
   ]
  },
  {
   "cell_type": "markdown",
   "metadata": {},
   "source": [
    "### Enumeration"
   ]
  },
  {
   "cell_type": "code",
   "execution_count": 1153,
   "metadata": {},
   "outputs": [],
   "source": [
    "max_time = 500\n",
    "\n",
    "K = 4 # platform capacity per class\n",
    "ch = [-1, -1.5, -2, -2.5, -3]  # cost per customer left waiting per time period\n",
    "cf = -100 # cost of dispatching a shuttle\n",
    "\n",
    "cap = 30 # shuttle capacity\n",
    "gamma = 0.95"
   ]
  },
  {
   "cell_type": "code",
   "execution_count": 1154,
   "metadata": {},
   "outputs": [],
   "source": [
    "def load_shuttle(current_state, cap):\n",
    "    # let the highest class customers get on the shuttle first\n",
    "    result = current_state.copy()\n",
    "    for i in range(4, -1, -1):\n",
    "        result[i] = max(current_state[i]-cap, 0)\n",
    "        cap = cap - abs(current_state[i]-result[i])\n",
    "    return(result)"
   ]
  },
  {
   "cell_type": "code",
   "execution_count": 1155,
   "metadata": {},
   "outputs": [],
   "source": [
    "def get_reward(states, ch, cf, cap):\n",
    "    # value of no shuttle\n",
    "    Vt_no_shut = sum(np.multiply(states, ch))\n",
    "    \n",
    "    # let the highest class customers get on the shuttle first\n",
    "    future_state = load_shuttle(states, cap)\n",
    "    Vt_shut = cf + sum(np.multiply(future_state, ch))\n",
    "    \n",
    "    # return reward\n",
    "    return(Vt_no_shut, Vt_shut)"
   ]
  },
  {
   "cell_type": "code",
   "execution_count": 1156,
   "metadata": {},
   "outputs": [],
   "source": [
    "def get_expected_future(state, arrivals, Vt_future, gamma, K, cap):\n",
    "    # make all the iterations of new people arriving\n",
    "    new_people = []\n",
    "    for people in arrivals: \n",
    "        new_people.append(np.add(people,state))\n",
    "    new_people = np.clip(new_people, 0, K-1)\n",
    "    \n",
    "    # expected future of no shuttle\n",
    "    no_shut = 0\n",
    "    for group in new_people:\n",
    "        no_shut = no_shut + ((1/len(arrivals)) * gamma * Vt_future[tuple(group)])\n",
    "        \n",
    "    # expected future of shuttle\n",
    "    shut = 0\n",
    "    for group in new_people:\n",
    "        new_group = load_shuttle(group, cap)\n",
    "        shut = shut + ((1/len(arrivals)) * gamma * Vt_future[tuple(new_group)])\n",
    "    return(no_shut, shut)"
   ]
  },
  {
   "cell_type": "code",
   "execution_count": 1157,
   "metadata": {},
   "outputs": [],
   "source": [
    "# initializes empty value dictionaries\n",
    "# the key for each value is the number of people of each class\n",
    "Vt = {}\n",
    "for st0 in range(K): # every state\n",
    "    for st1 in range(K):\n",
    "        for st2 in range(K):\n",
    "            for st3 in range(K):\n",
    "                for st4 in range(K):\n",
    "                    Vt[(st0,st1,st2,st3,st4)] = 0\n",
    "Vt_future = Vt.copy()"
   ]
  },
  {
   "cell_type": "code",
   "execution_count": 1158,
   "metadata": {},
   "outputs": [],
   "source": [
    "# at any given time t, between 1 and 5 people of each class can arrive\n",
    "# this iterates out all of them \n",
    "arrivals = []\n",
    "for st0 in range(1, 6): # every state\n",
    "    for st1 in range(1,6):\n",
    "        for st2 in range(1,6):\n",
    "            for st3 in range(1,6):\n",
    "                for st4 in range(1,6):\n",
    "                    arrivals.append([st0,st1,st2,st3,st4])"
   ]
  },
  {
   "cell_type": "code",
   "execution_count": 1159,
   "metadata": {},
   "outputs": [],
   "source": [
    "t1 = time.time()\n",
    "for time in range(max_time, -1, -1): # timeframe\n",
    "    for st0 in range(K): # every state for ever class of customers\n",
    "        for st1 in range(K):\n",
    "            for st2 in range(K):\n",
    "                for st3 in range(K):\n",
    "                    for st4 in range(K):\n",
    "                        rewards = get_reward([st0,st1,st2,st3,st4], ch, cf, cap)\n",
    "                        future = get_expected_future([st0,st1,st2,st3,st4], arrivals, Vt_future, gamma, K, cap)\n",
    "                        \n",
    "                        no_shuttle = rewards[0] + future[0]\n",
    "                        shuttle = rewards[1] + future[1]\n",
    "                        Vt[tuple([st0,st1,st2,st3,st4])] = max(no_shuttle, shuttle)\n",
    "    Vt_future = Vt.copy()\n",
    "t2 = time.time()\n",
    "print(\"Time elapsed (sec): \", t2-t1)"
   ]
  },
  {
   "cell_type": "code",
   "execution_count": 1165,
   "metadata": {},
   "outputs": [
    {
     "name": "stdout",
     "output_type": "stream",
     "text": [
      "-378.099999997\n",
      "-379.289999997\n",
      "-380.289999997\n"
     ]
    }
   ],
   "source": [
    "for i in range(K):\n",
    "    print(Vt[(i,0,0,0,0)])"
   ]
  },
  {
   "cell_type": "code",
   "execution_count": 1164,
   "metadata": {},
   "outputs": [
    {
     "data": {
      "text/plain": [
       "{(0, 0, 0, 0, 0): -378.0999999972874,\n",
       " (0, 0, 0, 0, 1): -381.66999999729177,\n",
       " (0, 0, 0, 0, 2): -384.66999999729177,\n",
       " (0, 0, 0, 1, 0): -381.07499999728731,\n",
       " (0, 0, 0, 1, 1): -384.64499999729145,\n",
       " (0, 0, 0, 1, 2): -387.64499999729145,\n",
       " (0, 0, 0, 2, 0): -383.57499999728731,\n",
       " (0, 0, 0, 2, 1): -387.14499999729145,\n",
       " (0, 0, 0, 2, 2): -390.14499999729145,\n",
       " (0, 0, 1, 0, 0): -380.47999999728722,\n",
       " (0, 0, 1, 0, 1): -384.04999999729165,\n",
       " (0, 0, 1, 0, 2): -387.04999999729165,\n",
       " (0, 0, 1, 1, 0): -383.45499999728719,\n",
       " (0, 0, 1, 1, 1): -387.02499999729133,\n",
       " (0, 0, 1, 1, 2): -390.02499999729133,\n",
       " (0, 0, 1, 2, 0): -385.95499999728719,\n",
       " (0, 0, 1, 2, 1): -389.52499999729133,\n",
       " (0, 0, 1, 2, 2): -392.52499999729133,\n",
       " (0, 0, 2, 0, 0): -382.47999999728722,\n",
       " (0, 0, 2, 0, 1): -386.04999999729165,\n",
       " (0, 0, 2, 0, 2): -389.04999999729165,\n",
       " (0, 0, 2, 1, 0): -385.45499999728719,\n",
       " (0, 0, 2, 1, 1): -389.02499999729133,\n",
       " (0, 0, 2, 1, 2): -392.02499999729133,\n",
       " (0, 0, 2, 2, 0): -387.95499999728719,\n",
       " (0, 0, 2, 2, 1): -391.52499999729133,\n",
       " (0, 0, 2, 2, 2): -394.52499999729133,\n",
       " (0, 1, 0, 0, 0): -379.88499999728788,\n",
       " (0, 1, 0, 0, 1): -383.45499999729344,\n",
       " (0, 1, 0, 0, 2): -386.45499999729344,\n",
       " (0, 1, 0, 1, 0): -382.85999999728756,\n",
       " (0, 1, 0, 1, 1): -386.42999999729318,\n",
       " (0, 1, 0, 1, 2): -389.42999999729318,\n",
       " (0, 1, 0, 2, 0): -385.35999999728756,\n",
       " (0, 1, 0, 2, 1): -388.92999999729318,\n",
       " (0, 1, 0, 2, 2): -391.92999999729318,\n",
       " (0, 1, 1, 0, 0): -382.26499999728776,\n",
       " (0, 1, 1, 0, 1): -385.83499999729332,\n",
       " (0, 1, 1, 0, 2): -388.83499999729332,\n",
       " (0, 1, 1, 1, 0): -385.23999999728744,\n",
       " (0, 1, 1, 1, 1): -388.80999999729306,\n",
       " (0, 1, 1, 1, 2): -391.80999999729306,\n",
       " (0, 1, 1, 2, 0): -387.73999999728744,\n",
       " (0, 1, 1, 2, 1): -391.30999999729306,\n",
       " (0, 1, 1, 2, 2): -394.30999999729306,\n",
       " (0, 1, 2, 0, 0): -384.26499999728776,\n",
       " (0, 1, 2, 0, 1): -387.83499999729332,\n",
       " (0, 1, 2, 0, 2): -390.83499999729332,\n",
       " (0, 1, 2, 1, 0): -387.23999999728744,\n",
       " (0, 1, 2, 1, 1): -390.80999999729306,\n",
       " (0, 1, 2, 1, 2): -393.80999999729306,\n",
       " (0, 1, 2, 2, 0): -389.73999999728744,\n",
       " (0, 1, 2, 2, 1): -393.30999999729306,\n",
       " (0, 1, 2, 2, 2): -396.30999999729306,\n",
       " (0, 2, 0, 0, 0): -381.38499999728788,\n",
       " (0, 2, 0, 0, 1): -384.95499999729344,\n",
       " (0, 2, 0, 0, 2): -387.95499999729344,\n",
       " (0, 2, 0, 1, 0): -384.35999999728756,\n",
       " (0, 2, 0, 1, 1): -387.92999999729318,\n",
       " (0, 2, 0, 1, 2): -390.92999999729318,\n",
       " (0, 2, 0, 2, 0): -386.85999999728756,\n",
       " (0, 2, 0, 2, 1): -390.42999999729318,\n",
       " (0, 2, 0, 2, 2): -393.42999999729318,\n",
       " (0, 2, 1, 0, 0): -383.76499999728776,\n",
       " (0, 2, 1, 0, 1): -387.33499999729332,\n",
       " (0, 2, 1, 0, 2): -390.33499999729332,\n",
       " (0, 2, 1, 1, 0): -386.73999999728744,\n",
       " (0, 2, 1, 1, 1): -390.30999999729306,\n",
       " (0, 2, 1, 1, 2): -393.30999999729306,\n",
       " (0, 2, 1, 2, 0): -389.23999999728744,\n",
       " (0, 2, 1, 2, 1): -392.80999999729306,\n",
       " (0, 2, 1, 2, 2): -395.80999999729306,\n",
       " (0, 2, 2, 0, 0): -385.76499999728776,\n",
       " (0, 2, 2, 0, 1): -389.33499999729332,\n",
       " (0, 2, 2, 0, 2): -392.33499999729332,\n",
       " (0, 2, 2, 1, 0): -388.73999999728744,\n",
       " (0, 2, 2, 1, 1): -392.30999999729306,\n",
       " (0, 2, 2, 1, 2): -395.30999999729306,\n",
       " (0, 2, 2, 2, 0): -391.23999999728744,\n",
       " (0, 2, 2, 2, 1): -394.80999999729306,\n",
       " (0, 2, 2, 2, 2): -397.80999999729306,\n",
       " (1, 0, 0, 0, 0): -379.28999999728728,\n",
       " (1, 0, 0, 0, 1): -382.85999999729171,\n",
       " (1, 0, 0, 0, 2): -385.85999999729171,\n",
       " (1, 0, 0, 1, 0): -382.26499999728725,\n",
       " (1, 0, 0, 1, 1): -385.83499999729139,\n",
       " (1, 0, 0, 1, 2): -388.83499999729139,\n",
       " (1, 0, 0, 2, 0): -384.76499999728725,\n",
       " (1, 0, 0, 2, 1): -388.33499999729139,\n",
       " (1, 0, 0, 2, 2): -391.33499999729139,\n",
       " (1, 0, 1, 0, 0): -381.66999999728716,\n",
       " (1, 0, 1, 0, 1): -385.23999999729159,\n",
       " (1, 0, 1, 0, 2): -388.23999999729159,\n",
       " (1, 0, 1, 1, 0): -384.64499999728713,\n",
       " (1, 0, 1, 1, 1): -388.21499999729127,\n",
       " (1, 0, 1, 1, 2): -391.21499999729127,\n",
       " (1, 0, 1, 2, 0): -387.14499999728713,\n",
       " (1, 0, 1, 2, 1): -390.71499999729127,\n",
       " (1, 0, 1, 2, 2): -393.71499999729127,\n",
       " (1, 0, 2, 0, 0): -383.66999999728716,\n",
       " (1, 0, 2, 0, 1): -387.23999999729159,\n",
       " (1, 0, 2, 0, 2): -390.23999999729159,\n",
       " (1, 0, 2, 1, 0): -386.64499999728713,\n",
       " (1, 0, 2, 1, 1): -390.21499999729127,\n",
       " (1, 0, 2, 1, 2): -393.21499999729127,\n",
       " (1, 0, 2, 2, 0): -389.14499999728713,\n",
       " (1, 0, 2, 2, 1): -392.71499999729127,\n",
       " (1, 0, 2, 2, 2): -395.71499999729127,\n",
       " (1, 1, 0, 0, 0): -381.07499999728788,\n",
       " (1, 1, 0, 0, 1): -384.6449999972935,\n",
       " (1, 1, 0, 0, 2): -387.6449999972935,\n",
       " (1, 1, 0, 1, 0): -384.04999999728761,\n",
       " (1, 1, 0, 1, 1): -387.61999999729318,\n",
       " (1, 1, 0, 1, 2): -390.61999999729318,\n",
       " (1, 1, 0, 2, 0): -386.54999999728761,\n",
       " (1, 1, 0, 2, 1): -390.11999999729318,\n",
       " (1, 1, 0, 2, 2): -393.11999999729318,\n",
       " (1, 1, 1, 0, 0): -383.45499999728776,\n",
       " (1, 1, 1, 0, 1): -387.02499999729338,\n",
       " (1, 1, 1, 0, 2): -390.02499999729338,\n",
       " (1, 1, 1, 1, 0): -386.4299999972875,\n",
       " (1, 1, 1, 1, 1): -389.99999999729306,\n",
       " (1, 1, 1, 1, 2): -392.99999999729306,\n",
       " (1, 1, 1, 2, 0): -388.9299999972875,\n",
       " (1, 1, 1, 2, 1): -392.49999999729306,\n",
       " (1, 1, 1, 2, 2): -395.49999999729306,\n",
       " (1, 1, 2, 0, 0): -385.45499999728776,\n",
       " (1, 1, 2, 0, 1): -389.02499999729338,\n",
       " (1, 1, 2, 0, 2): -392.02499999729338,\n",
       " (1, 1, 2, 1, 0): -388.4299999972875,\n",
       " (1, 1, 2, 1, 1): -391.99999999729306,\n",
       " (1, 1, 2, 1, 2): -394.99999999729306,\n",
       " (1, 1, 2, 2, 0): -390.9299999972875,\n",
       " (1, 1, 2, 2, 1): -394.49999999729306,\n",
       " (1, 1, 2, 2, 2): -397.49999999729306,\n",
       " (1, 2, 0, 0, 0): -382.57499999728788,\n",
       " (1, 2, 0, 0, 1): -386.1449999972935,\n",
       " (1, 2, 0, 0, 2): -389.1449999972935,\n",
       " (1, 2, 0, 1, 0): -385.54999999728761,\n",
       " (1, 2, 0, 1, 1): -389.11999999729318,\n",
       " (1, 2, 0, 1, 2): -392.11999999729318,\n",
       " (1, 2, 0, 2, 0): -388.04999999728761,\n",
       " (1, 2, 0, 2, 1): -391.61999999729318,\n",
       " (1, 2, 0, 2, 2): -394.61999999729318,\n",
       " (1, 2, 1, 0, 0): -384.95499999728776,\n",
       " (1, 2, 1, 0, 1): -388.52499999729338,\n",
       " (1, 2, 1, 0, 2): -391.52499999729338,\n",
       " (1, 2, 1, 1, 0): -387.9299999972875,\n",
       " (1, 2, 1, 1, 1): -391.49999999729306,\n",
       " (1, 2, 1, 1, 2): -394.49999999729306,\n",
       " (1, 2, 1, 2, 0): -390.4299999972875,\n",
       " (1, 2, 1, 2, 1): -393.99999999729306,\n",
       " (1, 2, 1, 2, 2): -396.99999999729306,\n",
       " (1, 2, 2, 0, 0): -386.95499999728776,\n",
       " (1, 2, 2, 0, 1): -390.52499999729338,\n",
       " (1, 2, 2, 0, 2): -393.52499999729338,\n",
       " (1, 2, 2, 1, 0): -389.9299999972875,\n",
       " (1, 2, 2, 1, 1): -393.49999999729306,\n",
       " (1, 2, 2, 1, 2): -396.49999999729306,\n",
       " (1, 2, 2, 2, 0): -392.4299999972875,\n",
       " (1, 2, 2, 2, 1): -395.99999999729306,\n",
       " (1, 2, 2, 2, 2): -398.99999999729306,\n",
       " (2, 0, 0, 0, 0): -380.28999999728728,\n",
       " (2, 0, 0, 0, 1): -383.85999999729171,\n",
       " (2, 0, 0, 0, 2): -386.85999999729171,\n",
       " (2, 0, 0, 1, 0): -383.26499999728725,\n",
       " (2, 0, 0, 1, 1): -386.83499999729139,\n",
       " (2, 0, 0, 1, 2): -389.83499999729139,\n",
       " (2, 0, 0, 2, 0): -385.76499999728725,\n",
       " (2, 0, 0, 2, 1): -389.33499999729139,\n",
       " (2, 0, 0, 2, 2): -392.33499999729139,\n",
       " (2, 0, 1, 0, 0): -382.66999999728716,\n",
       " (2, 0, 1, 0, 1): -386.23999999729159,\n",
       " (2, 0, 1, 0, 2): -389.23999999729159,\n",
       " (2, 0, 1, 1, 0): -385.64499999728713,\n",
       " (2, 0, 1, 1, 1): -389.21499999729127,\n",
       " (2, 0, 1, 1, 2): -392.21499999729127,\n",
       " (2, 0, 1, 2, 0): -388.14499999728713,\n",
       " (2, 0, 1, 2, 1): -391.71499999729127,\n",
       " (2, 0, 1, 2, 2): -394.71499999729127,\n",
       " (2, 0, 2, 0, 0): -384.66999999728716,\n",
       " (2, 0, 2, 0, 1): -388.23999999729159,\n",
       " (2, 0, 2, 0, 2): -391.23999999729159,\n",
       " (2, 0, 2, 1, 0): -387.64499999728713,\n",
       " (2, 0, 2, 1, 1): -391.21499999729127,\n",
       " (2, 0, 2, 1, 2): -394.21499999729127,\n",
       " (2, 0, 2, 2, 0): -390.14499999728713,\n",
       " (2, 0, 2, 2, 1): -393.71499999729127,\n",
       " (2, 0, 2, 2, 2): -396.71499999729127,\n",
       " (2, 1, 0, 0, 0): -382.07499999728788,\n",
       " (2, 1, 0, 0, 1): -385.6449999972935,\n",
       " (2, 1, 0, 0, 2): -388.6449999972935,\n",
       " (2, 1, 0, 1, 0): -385.04999999728761,\n",
       " (2, 1, 0, 1, 1): -388.61999999729318,\n",
       " (2, 1, 0, 1, 2): -391.61999999729318,\n",
       " (2, 1, 0, 2, 0): -387.54999999728761,\n",
       " (2, 1, 0, 2, 1): -391.11999999729318,\n",
       " (2, 1, 0, 2, 2): -394.11999999729318,\n",
       " (2, 1, 1, 0, 0): -384.45499999728776,\n",
       " (2, 1, 1, 0, 1): -388.02499999729338,\n",
       " (2, 1, 1, 0, 2): -391.02499999729338,\n",
       " (2, 1, 1, 1, 0): -387.4299999972875,\n",
       " (2, 1, 1, 1, 1): -390.99999999729306,\n",
       " (2, 1, 1, 1, 2): -393.99999999729306,\n",
       " (2, 1, 1, 2, 0): -389.9299999972875,\n",
       " (2, 1, 1, 2, 1): -393.49999999729306,\n",
       " (2, 1, 1, 2, 2): -396.49999999729306,\n",
       " (2, 1, 2, 0, 0): -386.45499999728776,\n",
       " (2, 1, 2, 0, 1): -390.02499999729338,\n",
       " (2, 1, 2, 0, 2): -393.02499999729338,\n",
       " (2, 1, 2, 1, 0): -389.4299999972875,\n",
       " (2, 1, 2, 1, 1): -392.99999999729306,\n",
       " (2, 1, 2, 1, 2): -395.99999999729306,\n",
       " (2, 1, 2, 2, 0): -391.9299999972875,\n",
       " (2, 1, 2, 2, 1): -395.49999999729306,\n",
       " (2, 1, 2, 2, 2): -398.49999999729306,\n",
       " (2, 2, 0, 0, 0): -383.57499999728788,\n",
       " (2, 2, 0, 0, 1): -387.1449999972935,\n",
       " (2, 2, 0, 0, 2): -390.1449999972935,\n",
       " (2, 2, 0, 1, 0): -386.54999999728761,\n",
       " (2, 2, 0, 1, 1): -390.11999999729318,\n",
       " (2, 2, 0, 1, 2): -393.11999999729318,\n",
       " (2, 2, 0, 2, 0): -389.04999999728761,\n",
       " (2, 2, 0, 2, 1): -392.61999999729318,\n",
       " (2, 2, 0, 2, 2): -395.61999999729318,\n",
       " (2, 2, 1, 0, 0): -385.95499999728776,\n",
       " (2, 2, 1, 0, 1): -389.52499999729338,\n",
       " (2, 2, 1, 0, 2): -392.52499999729338,\n",
       " (2, 2, 1, 1, 0): -388.9299999972875,\n",
       " (2, 2, 1, 1, 1): -392.49999999729306,\n",
       " (2, 2, 1, 1, 2): -395.49999999729306,\n",
       " (2, 2, 1, 2, 0): -391.4299999972875,\n",
       " (2, 2, 1, 2, 1): -394.99999999729306,\n",
       " (2, 2, 1, 2, 2): -397.99999999729306,\n",
       " (2, 2, 2, 0, 0): -387.95499999728776,\n",
       " (2, 2, 2, 0, 1): -391.52499999729338,\n",
       " (2, 2, 2, 0, 2): -394.52499999729338,\n",
       " (2, 2, 2, 1, 0): -390.9299999972875,\n",
       " (2, 2, 2, 1, 1): -394.49999999729306,\n",
       " (2, 2, 2, 1, 2): -397.49999999729306,\n",
       " (2, 2, 2, 2, 0): -393.4299999972875,\n",
       " (2, 2, 2, 2, 1): -396.99999999729306,\n",
       " (2, 2, 2, 2, 2): -399.99999999729306}"
      ]
     },
     "execution_count": 1164,
     "metadata": {},
     "output_type": "execute_result"
    }
   ],
   "source": [
    "Vt"
   ]
  },
  {
   "cell_type": "code",
   "execution_count": 1167,
   "metadata": {},
   "outputs": [],
   "source": [
    "t1 = time.time()"
   ]
  },
  {
   "cell_type": "code",
   "execution_count": 1168,
   "metadata": {},
   "outputs": [],
   "source": [
    "t2 = time.time()"
   ]
  },
  {
   "cell_type": "code",
   "execution_count": 1169,
   "metadata": {},
   "outputs": [
    {
     "data": {
      "text/plain": [
       "9.367748022079468"
      ]
     },
     "execution_count": 1169,
     "metadata": {},
     "output_type": "execute_result"
    }
   ],
   "source": [
    "t2-t1"
   ]
  },
  {
   "cell_type": "code",
   "execution_count": null,
   "metadata": {},
   "outputs": [],
   "source": []
  }
 ],
 "metadata": {
  "kernelspec": {
   "display_name": "Python 3",
   "language": "python",
   "name": "python3"
  },
  "language_info": {
   "codemirror_mode": {
    "name": "ipython",
    "version": 3
   },
   "file_extension": ".py",
   "mimetype": "text/x-python",
   "name": "python",
   "nbconvert_exporter": "python",
   "pygments_lexer": "ipython3",
   "version": "3.6.4"
  }
 },
 "nbformat": 4,
 "nbformat_minor": 2
}
