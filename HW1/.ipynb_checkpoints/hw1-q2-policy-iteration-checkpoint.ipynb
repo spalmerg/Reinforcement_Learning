{
 "cells": [
  {
   "cell_type": "markdown",
   "metadata": {},
   "source": [
    "## Question 2"
   ]
  },
  {
   "cell_type": "code",
   "execution_count": 1,
   "metadata": {},
   "outputs": [],
   "source": [
    "import pandas as pd\n",
    "import numpy as np\n",
    "import matplotlib.pyplot as plt\n",
    "import random\n",
    "import time"
   ]
  },
  {
   "cell_type": "markdown",
   "metadata": {},
   "source": [
    "Now consider the multiclass problem in which we have different types of customers. \n",
    "- Assume that there are 5 types of customers with ch = {1, 1.5, 2, 2.5, 3}\n",
    "- Each type can have maximum 100 people of each class waiting for shuttle\n",
    "- At for each class follows same distribution\n",
    "- Capacity of the shuttle is K = 30."
   ]
  },
  {
   "cell_type": "markdown",
   "metadata": {},
   "source": [
    "### Policy Iteration"
   ]
  },
  {
   "cell_type": "code",
   "execution_count": 2,
   "metadata": {},
   "outputs": [],
   "source": [
    "max_time = 500\n",
    "\n",
    "K = 3 # platform capacity per class\n",
    "ch = [-1, -1.5, -2, -2.5, -3]  # cost per customer left waiting per time period\n",
    "cf = -100 # cost of dispatching a shuttle\n",
    "\n",
    "cap = 30 # shuttle capacity\n",
    "gamma = 0.95\n",
    "\n",
    "theta = 10e-6\n",
    "delta = 2"
   ]
  },
  {
   "cell_type": "code",
   "execution_count": 3,
   "metadata": {},
   "outputs": [],
   "source": [
    "def load_shuttle(current_state, cap):\n",
    "    # let the highest class customers get on the shuttle first\n",
    "    result = current_state.copy()\n",
    "    for i in range(4, -1, -1):\n",
    "        result[i] = max(current_state[i]-cap, 0)\n",
    "        cap = cap - abs(current_state[i]-result[i])\n",
    "    return(result)"
   ]
  },
  {
   "cell_type": "code",
   "execution_count": 4,
   "metadata": {},
   "outputs": [],
   "source": [
    "def get_reward(states, ch, cf, cap):\n",
    "    # value of no shuttle\n",
    "    Vt_no_shut = sum(np.multiply(states, ch))\n",
    "    \n",
    "    # let the highest class customers get on the shuttle first\n",
    "    future_state = load_shuttle(states, cap)\n",
    "    Vt_shut = cf + sum(np.multiply(future_state, ch))\n",
    "    \n",
    "    # return reward\n",
    "    return(Vt_no_shut, Vt_shut)"
   ]
  },
  {
   "cell_type": "code",
   "execution_count": 5,
   "metadata": {},
   "outputs": [],
   "source": [
    "def get_expected_future(state, arrivals, Vt_future, gamma, K, cap):\n",
    "    # make all the iterations of new people arriving\n",
    "    new_people = []\n",
    "    for people in arrivals: \n",
    "        new_people.append(np.add(people,state))\n",
    "    new_people = np.clip(new_people, 0, K-1)\n",
    "    \n",
    "    # expected future of no shuttle\n",
    "    no_shut = 0\n",
    "    for group in new_people:\n",
    "        no_shut = no_shut + ((1/len(arrivals)) * gamma * Vt_future[tuple(group)])\n",
    "        \n",
    "    # expected future of shuttle\n",
    "    shut = 0\n",
    "    for group in new_people:\n",
    "        new_group = load_shuttle(group, cap)\n",
    "        shut = shut + ((1/len(arrivals)) * gamma * Vt_future[tuple(new_group)])\n",
    "    return(no_shut, shut)"
   ]
  },
  {
   "cell_type": "code",
   "execution_count": 11,
   "metadata": {},
   "outputs": [],
   "source": [
    "# initialize all zero value vector\n",
    "Vt = {}\n",
    "for st0 in range(K): # every state\n",
    "    for st1 in range(K):\n",
    "        for st2 in range(K):\n",
    "            for st3 in range(K):\n",
    "                for st4 in range(K):\n",
    "                    Vt[(st0,st1,st2,st3,st4)] = 0\n",
    "Vt_future = Vt.copy()\n",
    "Vt_reset = Vt.copy()"
   ]
  },
  {
   "cell_type": "code",
   "execution_count": 7,
   "metadata": {},
   "outputs": [],
   "source": [
    "# initialize random policies\n",
    "policy = {}\n",
    "policy_new = {}\n",
    "for st0 in range(K): # every state\n",
    "    for st1 in range(K):\n",
    "        for st2 in range(K):\n",
    "            for st3 in range(K):\n",
    "                for st4 in range(K):\n",
    "                    policy[(st0,st1,st2,st3,st4)] = np.random.randint(2)\n",
    "                    policy_new[(st0,st1,st2,st3,st4)] = np.random.randint(2)"
   ]
  },
  {
   "cell_type": "code",
   "execution_count": 8,
   "metadata": {},
   "outputs": [],
   "source": [
    "# at any given time t, between 1 and 5 people of each class can arrive\n",
    "# this lists all possible arrivals\n",
    "arrivals = []\n",
    "for st0 in range(1, 6): # every state\n",
    "    for st1 in range(1,6):\n",
    "        for st2 in range(1,6):\n",
    "            for st3 in range(1,6):\n",
    "                for st4 in range(1,6):\n",
    "                    arrivals.append([st0,st1,st2,st3,st4])"
   ]
  },
  {
   "cell_type": "code",
   "execution_count": 9,
   "metadata": {},
   "outputs": [
    {
     "ename": "KeyboardInterrupt",
     "evalue": "",
     "output_type": "error",
     "traceback": [
      "\u001b[0;31m---------------------------------------------------------------------------\u001b[0m",
      "\u001b[0;31mKeyboardInterrupt\u001b[0m                         Traceback (most recent call last)",
      "\u001b[0;32m<ipython-input-9-22bd555017ac>\u001b[0m in \u001b[0;36m<module>\u001b[0;34m()\u001b[0m\n\u001b[1;32m     15\u001b[0m \u001b[0;34m\u001b[0m\u001b[0m\n\u001b[1;32m     16\u001b[0m                             \u001b[0mrewards\u001b[0m \u001b[0;34m=\u001b[0m \u001b[0mget_reward\u001b[0m\u001b[0;34m(\u001b[0m\u001b[0;34m[\u001b[0m\u001b[0mst0\u001b[0m\u001b[0;34m,\u001b[0m\u001b[0mst1\u001b[0m\u001b[0;34m,\u001b[0m\u001b[0mst2\u001b[0m\u001b[0;34m,\u001b[0m\u001b[0mst3\u001b[0m\u001b[0;34m,\u001b[0m\u001b[0mst4\u001b[0m\u001b[0;34m]\u001b[0m\u001b[0;34m,\u001b[0m \u001b[0mch\u001b[0m\u001b[0;34m,\u001b[0m \u001b[0mcf\u001b[0m\u001b[0;34m,\u001b[0m \u001b[0mcap\u001b[0m\u001b[0;34m)\u001b[0m\u001b[0;34m\u001b[0m\u001b[0m\n\u001b[0;32m---> 17\u001b[0;31m                             \u001b[0mfuture\u001b[0m \u001b[0;34m=\u001b[0m \u001b[0mget_expected_future\u001b[0m\u001b[0;34m(\u001b[0m\u001b[0;34m[\u001b[0m\u001b[0mst0\u001b[0m\u001b[0;34m,\u001b[0m\u001b[0mst1\u001b[0m\u001b[0;34m,\u001b[0m\u001b[0mst2\u001b[0m\u001b[0;34m,\u001b[0m\u001b[0mst3\u001b[0m\u001b[0;34m,\u001b[0m\u001b[0mst4\u001b[0m\u001b[0;34m]\u001b[0m\u001b[0;34m,\u001b[0m \u001b[0marrivals\u001b[0m\u001b[0;34m,\u001b[0m \u001b[0mVt_future\u001b[0m\u001b[0;34m,\u001b[0m \u001b[0mgamma\u001b[0m\u001b[0;34m,\u001b[0m \u001b[0mK\u001b[0m\u001b[0;34m,\u001b[0m \u001b[0mcap\u001b[0m\u001b[0;34m)\u001b[0m\u001b[0;34m\u001b[0m\u001b[0m\n\u001b[0m\u001b[1;32m     18\u001b[0m \u001b[0;34m\u001b[0m\u001b[0m\n\u001b[1;32m     19\u001b[0m                             \u001b[0mno_shuttle\u001b[0m \u001b[0;34m=\u001b[0m \u001b[0mrewards\u001b[0m\u001b[0;34m[\u001b[0m\u001b[0;36m0\u001b[0m\u001b[0;34m]\u001b[0m \u001b[0;34m+\u001b[0m \u001b[0mfuture\u001b[0m\u001b[0;34m[\u001b[0m\u001b[0;36m0\u001b[0m\u001b[0;34m]\u001b[0m\u001b[0;34m\u001b[0m\u001b[0m\n",
      "\u001b[0;32m<ipython-input-5-c9e4e960eeec>\u001b[0m in \u001b[0;36mget_expected_future\u001b[0;34m(state, arrivals, Vt_future, gamma, K, cap)\u001b[0m\n\u001b[1;32m     14\u001b[0m     \u001b[0mshut\u001b[0m \u001b[0;34m=\u001b[0m \u001b[0;36m0\u001b[0m\u001b[0;34m\u001b[0m\u001b[0m\n\u001b[1;32m     15\u001b[0m     \u001b[0;32mfor\u001b[0m \u001b[0mgroup\u001b[0m \u001b[0;32min\u001b[0m \u001b[0mnew_people\u001b[0m\u001b[0;34m:\u001b[0m\u001b[0;34m\u001b[0m\u001b[0m\n\u001b[0;32m---> 16\u001b[0;31m         \u001b[0mnew_group\u001b[0m \u001b[0;34m=\u001b[0m \u001b[0mload_shuttle\u001b[0m\u001b[0;34m(\u001b[0m\u001b[0mgroup\u001b[0m\u001b[0;34m,\u001b[0m \u001b[0mcap\u001b[0m\u001b[0;34m)\u001b[0m\u001b[0;34m\u001b[0m\u001b[0m\n\u001b[0m\u001b[1;32m     17\u001b[0m         \u001b[0mshut\u001b[0m \u001b[0;34m=\u001b[0m \u001b[0mshut\u001b[0m \u001b[0;34m+\u001b[0m \u001b[0;34m(\u001b[0m\u001b[0;34m(\u001b[0m\u001b[0;36m1\u001b[0m\u001b[0;34m/\u001b[0m\u001b[0mlen\u001b[0m\u001b[0;34m(\u001b[0m\u001b[0marrivals\u001b[0m\u001b[0;34m)\u001b[0m\u001b[0;34m)\u001b[0m \u001b[0;34m*\u001b[0m \u001b[0mgamma\u001b[0m \u001b[0;34m*\u001b[0m \u001b[0mVt_future\u001b[0m\u001b[0;34m[\u001b[0m\u001b[0mtuple\u001b[0m\u001b[0;34m(\u001b[0m\u001b[0mnew_group\u001b[0m\u001b[0;34m)\u001b[0m\u001b[0;34m]\u001b[0m\u001b[0;34m)\u001b[0m\u001b[0;34m\u001b[0m\u001b[0m\n\u001b[1;32m     18\u001b[0m     \u001b[0;32mreturn\u001b[0m\u001b[0;34m(\u001b[0m\u001b[0mno_shut\u001b[0m\u001b[0;34m,\u001b[0m \u001b[0mshut\u001b[0m\u001b[0;34m)\u001b[0m\u001b[0;34m\u001b[0m\u001b[0m\n",
      "\u001b[0;32m<ipython-input-3-f44a4fc4cb2b>\u001b[0m in \u001b[0;36mload_shuttle\u001b[0;34m(current_state, cap)\u001b[0m\n\u001b[1;32m      3\u001b[0m     \u001b[0mresult\u001b[0m \u001b[0;34m=\u001b[0m \u001b[0mcurrent_state\u001b[0m\u001b[0;34m.\u001b[0m\u001b[0mcopy\u001b[0m\u001b[0;34m(\u001b[0m\u001b[0;34m)\u001b[0m\u001b[0;34m\u001b[0m\u001b[0m\n\u001b[1;32m      4\u001b[0m     \u001b[0;32mfor\u001b[0m \u001b[0mi\u001b[0m \u001b[0;32min\u001b[0m \u001b[0mrange\u001b[0m\u001b[0;34m(\u001b[0m\u001b[0;36m4\u001b[0m\u001b[0;34m,\u001b[0m \u001b[0;34m-\u001b[0m\u001b[0;36m1\u001b[0m\u001b[0;34m,\u001b[0m \u001b[0;34m-\u001b[0m\u001b[0;36m1\u001b[0m\u001b[0;34m)\u001b[0m\u001b[0;34m:\u001b[0m\u001b[0;34m\u001b[0m\u001b[0m\n\u001b[0;32m----> 5\u001b[0;31m         \u001b[0mresult\u001b[0m\u001b[0;34m[\u001b[0m\u001b[0mi\u001b[0m\u001b[0;34m]\u001b[0m \u001b[0;34m=\u001b[0m \u001b[0mmax\u001b[0m\u001b[0;34m(\u001b[0m\u001b[0mcurrent_state\u001b[0m\u001b[0;34m[\u001b[0m\u001b[0mi\u001b[0m\u001b[0;34m]\u001b[0m\u001b[0;34m-\u001b[0m\u001b[0mcap\u001b[0m\u001b[0;34m,\u001b[0m \u001b[0;36m0\u001b[0m\u001b[0;34m)\u001b[0m\u001b[0;34m\u001b[0m\u001b[0m\n\u001b[0m\u001b[1;32m      6\u001b[0m         \u001b[0mcap\u001b[0m \u001b[0;34m=\u001b[0m \u001b[0mcap\u001b[0m \u001b[0;34m-\u001b[0m \u001b[0mabs\u001b[0m\u001b[0;34m(\u001b[0m\u001b[0mcurrent_state\u001b[0m\u001b[0;34m[\u001b[0m\u001b[0mi\u001b[0m\u001b[0;34m]\u001b[0m\u001b[0;34m-\u001b[0m\u001b[0mresult\u001b[0m\u001b[0;34m[\u001b[0m\u001b[0mi\u001b[0m\u001b[0;34m]\u001b[0m\u001b[0;34m)\u001b[0m\u001b[0;34m\u001b[0m\u001b[0m\n\u001b[1;32m      7\u001b[0m     \u001b[0;32mreturn\u001b[0m\u001b[0;34m(\u001b[0m\u001b[0mresult\u001b[0m\u001b[0;34m)\u001b[0m\u001b[0;34m\u001b[0m\u001b[0m\n",
      "\u001b[0;31mKeyboardInterrupt\u001b[0m: "
     ]
    }
   ],
   "source": [
    "t1 = time.time()\n",
    "changed = True\n",
    "while changed: \n",
    "    # policy evaluation\n",
    "    while theta < delta: \n",
    "        delta = 0\n",
    "        Vt_future = Vt.copy()\n",
    "        for st0 in range(K): # every state for ever class of customers\n",
    "            for st1 in range(K):\n",
    "                for st2 in range(K):\n",
    "                    for st3 in range(K):\n",
    "                        for st4 in range(K):\n",
    "                            # old value\n",
    "                            v = Vt[tuple([st0,st1,st2,st3,st4])]\n",
    "                            \n",
    "                            rewards = get_reward([st0,st1,st2,st3,st4], ch, cf, cap)\n",
    "                            future = get_expected_future([st0,st1,st2,st3,st4], arrivals, Vt_future, gamma, K, cap)\n",
    "\n",
    "                            no_shuttle = rewards[0] + future[0]\n",
    "                            shuttle = rewards[1] + future[1]\n",
    "                            \n",
    "                            values = [no_shuttle, shuttle]\n",
    "    \n",
    "                            Vt[tuple([st0,st1,st2,st3,st4])] = values[policy[tuple([st0,st1,st2,st3,st4])]]\n",
    "                            delta = max(delta, abs(Vt[tuple([st0,st1,st2,st3,st4])] - v))\n",
    "            \n",
    "    # policy improvement\n",
    "    for st0 in range(K): # every state for ever class of customers\n",
    "        for st1 in range(K):\n",
    "            for st2 in range(K):\n",
    "                for st3 in range(K):\n",
    "                    for st4 in range(K):\n",
    "                            rewards = get_reward([st0,st1,st2,st3,st4], ch, cf, cap)\n",
    "                            future = get_expected_future([st0,st1,st2,st3,st4], arrivals, Vt_future, gamma, K, cap)\n",
    "\n",
    "                            no_shuttle = rewards[0] + future[0]\n",
    "                            shuttle = rewards[1] + future[1]\n",
    "                            \n",
    "                            values = [no_shuttle, shuttle]\n",
    "                            policy_new[tuple([st0,st1,st2,st3,st4])] = np.argmax(values)\n",
    "    \n",
    "    # check if policy is stable\n",
    "    # if policy has changed\n",
    "    if not list(policy.values()) == list(policy_new.values()): \n",
    "        delta = 2 # send back to policy evaluation\n",
    "        policy = policy_new.copy() # reset policy\n",
    "        Vt = Vt_reset.copy()\n",
    "    # if policy hasn't changed exit\n",
    "    else: \n",
    "        changed = False\n",
    "    \n",
    "t2 = time.time()\n",
    "print(\"Time elapsed (sec): \", t2-t1)"
   ]
  },
  {
   "cell_type": "code",
   "execution_count": 10,
   "metadata": {},
   "outputs": [
    {
     "ename": "NameError",
     "evalue": "name 't2' is not defined",
     "output_type": "error",
     "traceback": [
      "\u001b[0;31m---------------------------------------------------------------------------\u001b[0m",
      "\u001b[0;31mNameError\u001b[0m                                 Traceback (most recent call last)",
      "\u001b[0;32m<ipython-input-10-a67af55d036a>\u001b[0m in \u001b[0;36m<module>\u001b[0;34m()\u001b[0m\n\u001b[0;32m----> 1\u001b[0;31m \u001b[0mhours\u001b[0m \u001b[0;34m=\u001b[0m \u001b[0;34m(\u001b[0m\u001b[0mt2\u001b[0m\u001b[0;34m-\u001b[0m\u001b[0mt1\u001b[0m\u001b[0;34m)\u001b[0m\u001b[0;34m/\u001b[0m\u001b[0;36m3600\u001b[0m\u001b[0;34m\u001b[0m\u001b[0m\n\u001b[0m\u001b[1;32m      2\u001b[0m \u001b[0mprint\u001b[0m\u001b[0;34m(\u001b[0m\u001b[0mround\u001b[0m\u001b[0;34m(\u001b[0m\u001b[0mhours\u001b[0m\u001b[0;34m,\u001b[0m\u001b[0;36m2\u001b[0m\u001b[0;34m)\u001b[0m\u001b[0;34m,\u001b[0m \u001b[0;34m\"hours\"\u001b[0m\u001b[0;34m)\u001b[0m\u001b[0;34m\u001b[0m\u001b[0m\n",
      "\u001b[0;31mNameError\u001b[0m: name 't2' is not defined"
     ]
    }
   ],
   "source": [
    "hours = (t2-t1)/3600\n",
    "print(round(hours,2), \"hours\")"
   ]
  },
  {
   "cell_type": "markdown",
   "metadata": {},
   "source": [
    "### Plotting Values"
   ]
  },
  {
   "cell_type": "code",
   "execution_count": null,
   "metadata": {},
   "outputs": [],
   "source": [
    "# get values for the lowest class, when there are 0 people from each other class\n",
    "result = []\n",
    "for i in range(K):\n",
    "    result.append(Vt[(i,0,0,0,0)])"
   ]
  },
  {
   "cell_type": "code",
   "execution_count": null,
   "metadata": {
    "scrolled": true
   },
   "outputs": [],
   "source": [
    "plt.plot(range(K), result)\n",
    "plt.title(\"Value Iteration\")\n",
    "plt.xlabel(\"State\")\n",
    "plt.ylabel(\"Value\")"
   ]
  },
  {
   "cell_type": "markdown",
   "metadata": {},
   "source": [
    "### Plotting Policy"
   ]
  },
  {
   "cell_type": "code",
   "execution_count": null,
   "metadata": {},
   "outputs": [],
   "source": [
    "# get policy for the lowest class, when there are 0 people from each other class\n",
    "result = []\n",
    "for i in range(K):\n",
    "    result.append(policy[(i,0,0,0,0)])"
   ]
  },
  {
   "cell_type": "code",
   "execution_count": null,
   "metadata": {},
   "outputs": [],
   "source": [
    "plt.plot(range(K), result)\n",
    "plt.title(\"Value Iteration\")\n",
    "plt.xlabel(\"State\")\n",
    "plt.ylabel(\"Value\")"
   ]
  }
 ],
 "metadata": {
  "kernelspec": {
   "display_name": "Python 3",
   "language": "python",
   "name": "python3"
  },
  "language_info": {
   "codemirror_mode": {
    "name": "ipython",
    "version": 3
   },
   "file_extension": ".py",
   "mimetype": "text/x-python",
   "name": "python",
   "nbconvert_exporter": "python",
   "pygments_lexer": "ipython3",
   "version": "3.6.4"
  }
 },
 "nbformat": 4,
 "nbformat_minor": 2
}
