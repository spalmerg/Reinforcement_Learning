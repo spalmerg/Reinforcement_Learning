{
 "cells": [
  {
   "cell_type": "markdown",
   "metadata": {},
   "source": [
    "### Import Libraries"
   ]
  },
  {
   "cell_type": "code",
   "execution_count": 299,
   "metadata": {},
   "outputs": [],
   "source": [
    "import numpy as np\n",
    "from numpy.linalg import inv\n",
    "import tensorflow as tf\n",
    "import random\n",
    "import matplotlib.pyplot as plt\n",
    "import pandas as pd"
   ]
  },
  {
   "cell_type": "markdown",
   "metadata": {},
   "source": [
    "### Define Functions"
   ]
  },
  {
   "cell_type": "code",
   "execution_count": 5,
   "metadata": {},
   "outputs": [],
   "source": [
    "def sample_jester_data(file_name, context_dim = 32, num_actions = 8, num_contexts = 19181,\n",
    "                       shuffle_rows=True, shuffle_cols=False):\n",
    "    \"\"\"Samples bandit game from (user, joke) dense subset of Jester dataset.\n",
    "        Args:\n",
    "            file_name: Route of file containing the modified Jester dataset.\n",
    "            context_dim: Context dimension (i.e. vector with some ratings from a user).\n",
    "            num_actions: Number of actions (number of joke ratings to predict).\n",
    "            num_contexts: Number of contexts to sample.\n",
    "            shuffle_rows: If True, rows from original dataset are shuffled.\n",
    "            shuffle_cols: Whether or not context/action jokes are randomly shuffled.\n",
    "        Returns:\n",
    "            dataset: Sampled matrix with rows: (context, rating_1, ..., rating_k).\n",
    "            opt_vals: Vector of deterministic optimal (reward, action) for each context.\n",
    "    \"\"\"\n",
    "    np.random.seed(0)\n",
    "    with tf.gfile.Open(file_name, 'rb') as f:\n",
    "        dataset = np.load(f)\n",
    "    if shuffle_cols:\n",
    "        dataset = dataset[:, np.random.permutation(dataset.shape[1])]\n",
    "    if shuffle_rows:\n",
    "        np.random.shuffle(dataset)\n",
    "    dataset = dataset[:num_contexts, :]\n",
    "    assert context_dim + num_actions == dataset.shape[1], 'Wrong data dimensions.'\n",
    "    opt_actions = np.argmax(dataset[:, context_dim:], axis=1)\n",
    "    opt_rewards = np.array([dataset[i, context_dim + a] for i, a in enumerate(opt_actions)])\n",
    "    return dataset, opt_rewards, opt_actions"
   ]
  },
  {
   "cell_type": "code",
   "execution_count": 287,
   "metadata": {},
   "outputs": [],
   "source": [
    "def rargmax(vector, epsilon):\n",
    "    \"\"\" Argmax that chooses randomly among eligible maximum indices\n",
    "        while following an epsilon greedy policy schedule.\"\"\"\n",
    "    ep_greedy = np.random.rand() # pick random number\n",
    "    if ep_greedy < epsilon: # if epsilon greedy wins\n",
    "        pick = random.choice(range(len(vector)))\n",
    "    else: \n",
    "        m = np.amax(vector)\n",
    "        indices = np.nonzero(vector == m)[0]\n",
    "        pick = random.choice(indices)\n",
    "    return pick"
   ]
  },
  {
   "cell_type": "markdown",
   "metadata": {},
   "source": [
    "### Read in Data"
   ]
  },
  {
   "cell_type": "code",
   "execution_count": 249,
   "metadata": {},
   "outputs": [],
   "source": [
    "# read in and store data \n",
    "dataset, opt_rewards, opt_actions = sample_jester_data('jester_data_40jokes_19181users.npy')"
   ]
  },
  {
   "cell_type": "markdown",
   "metadata": {},
   "source": [
    "### Train Algorithm \n",
    "Using first 18,000 users"
   ]
  },
  {
   "cell_type": "code",
   "execution_count": 362,
   "metadata": {},
   "outputs": [],
   "source": [
    "# initialize all of the things\n",
    "alpha = 1.5 # UCB hyperparameter \n",
    "epsilon_greedy = list(np.repeat(0.1, 1000)) + list(np.repeat(0.99, n)) # schedule \n",
    "\n",
    "n = 18000 # number of users for training/tuning\n",
    "k = 32 # context\n",
    "a = 8 # arms\n",
    "\n",
    "th = np.random.random((a, k)) - 0.5 # theta, truth\n",
    "\n",
    "choices = np.zeros(n)\n",
    "rewards = np.zeros(n)\n",
    "\n",
    "b = np.zeros_like(th) # multiplication of context & rewards\n",
    "A = np.zeros((a, k, k)) # for each action, identity matrix that's k x k\n",
    "\n",
    "for a in range (0, a): # initialize all arms as identity matrix\n",
    "    A[a] = np.identity(k)\n",
    "\n",
    "# run contextual bandit    \n",
    "earned_rewards = []\n",
    "for user in range(n):\n",
    "    \n",
    "    context = dataset[user][:k] # X\n",
    "    true_rewards = dataset[user][k:] # y\n",
    "    \n",
    "    p_ta = [] # keep track of predicted rewards\n",
    "    for action in range(a+1):\n",
    "        A_inverse = inv(A[action])\n",
    "        th[action] = np.matmul(A_inverse, b[action])\n",
    "        \n",
    "        mu = np.matmul(th[action].reshape(1,k), context)[0]\n",
    "        cb = alpha * np.sqrt(np.matmul(np.matmul(context.reshape(1,k), A_inverse), context))[0]\n",
    "        p_ta.append(mu + cb)\n",
    "    \n",
    "    pick = rargmax(p_ta, user, epsilon_greedy[user])\n",
    "    A[pick] = A[pick] + np.matmul(context, context.reshape(k,1))\n",
    "    b[pick] = b[pick] + true_rewards[pick] * context\n",
    "    earned_rewards.append(true_rewards[pick])"
   ]
  },
  {
   "cell_type": "code",
   "execution_count": 363,
   "metadata": {},
   "outputs": [
    {
     "data": {
      "image/png": "[encoded data removed]",
      "text/plain": [
       "<matplotlib.figure.Figure at 0x152b029e8>"
      ]
     },
     "metadata": {},
     "output_type": "display_data"
    }
   ],
   "source": [
    "results = pd.DataFrame(earned_rewards)\n",
    "results.columns = ['Reward']\n",
    "results.rolling(1000).mean().plot()\n",
    "plt.title(\"Rolling Average Reward\");"
   ]
  },
  {
   "cell_type": "markdown",
   "metadata": {},
   "source": [
    "### Test Algorithm"
   ]
  },
  {
   "cell_type": "code",
   "execution_count": 365,
   "metadata": {},
   "outputs": [],
   "source": [
    "regret = []\n",
    "for user in range(n, len(dataset)):\n",
    "    context = dataset[user][:k] # X\n",
    "    true_rewards = dataset[user][k:] # y\n",
    "    \n",
    "    p_ta = [] # keep track of predicted rewards\n",
    "    for action in range(a+1):\n",
    "        A_inverse = inv(A[action])\n",
    "        th[action] = np.matmul(A_inverse, b[action])\n",
    "        \n",
    "        mu = np.matmul(th[action].reshape(1,k), context)[0]\n",
    "        cb = alpha * np.sqrt(np.matmul(np.matmul(context.reshape(1,k), A_inverse), context))[0]\n",
    "        p_ta.append(mu + cb)\n",
    "    \n",
    "    pick = rargmax(p_ta, user, 1)\n",
    "    user_regret = np.max(true_rewards) - true_rewards[pick]\n",
    "    regret.append(user_regret)"
   ]
  },
  {
   "cell_type": "code",
   "execution_count": 371,
   "metadata": {},
   "outputs": [
    {
     "data": {
      "image/png": "[encoded data removed]",
      "text/plain": [
       "<matplotlib.figure.Figure at 0x152d7e470>"
      ]
     },
     "metadata": {},
     "output_type": "display_data"
    }
   ],
   "source": [
    "plt.hist(regret)\n",
    "plt.title(\"Test Set Regret Evaluation\");"
   ]
  }
 ],
 "metadata": {
  "kernelspec": {
   "display_name": "Python 3",
   "language": "python",
   "name": "python3"
  },
  "language_info": {
   "codemirror_mode": {
    "name": "ipython",
    "version": 3
   },
   "file_extension": ".py",
   "mimetype": "text/x-python",
   "name": "python",
   "nbconvert_exporter": "python",
   "pygments_lexer": "ipython3",
   "version": "3.6.4"
  }
 },
 "nbformat": 4,
 "nbformat_minor": 2
}
